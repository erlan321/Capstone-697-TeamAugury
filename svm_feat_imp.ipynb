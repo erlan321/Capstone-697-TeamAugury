{
 "cells": [
  {
   "cell_type": "code",
   "execution_count": 35,
   "metadata": {},
   "outputs": [],
   "source": [
    "import pandas as pd\n",
    "import numpy as np  \n",
    "from datetime import datetime \n",
    "from functions.Team_Augury_load_transform_saved import load_and_preprocess\n",
    "from sklearn.linear_model import LogisticRegression\n",
    "from sklearn.svm import SVC\n",
    "from sklearn.ensemble import GradientBoostingClassifier\n",
    "import pickle\n",
    "import matplotlib.pyplot as plt\n",
    "from matplotlib.pyplot import cla, figure\n",
    "from matplotlib import pyplot\n",
    "import altair as alt\n",
    "from altair_saver import save\n",
    "from sklearn.inspection import permutation_importance\n",
    "from sklearn.metrics import accuracy_score, f1_score\n",
    "from sklearn.metrics import confusion_matrix\n",
    "from sklearn.metrics import classification_report\n"
   ]
  },
  {
   "cell_type": "code",
   "execution_count": 2,
   "metadata": {},
   "outputs": [
    {
     "name": "stdout",
     "output_type": "stream",
     "text": [
      "Loading features...\n",
      "data loaded and pre_processed\n",
      "Testing load, length of X, y: (1674, 776) (1674,)\n",
      "type <class 'pandas.core.frame.DataFrame'>\n"
     ]
    }
   ],
   "source": [
    "X_train, y_train = load_and_preprocess()\n",
    "print ('Testing load, length of X, y:', X_train.shape, y_train.shape)\n",
    "print ('type', type(X_train))"
   ]
  },
  {
   "cell_type": "code",
   "execution_count": 16,
   "metadata": {},
   "outputs": [],
   "source": [
    "# Note version differences the vanilla  pkl models created with version 0.24.2. The final pkl models are from version 1.0.2\n",
    "# import sklearn\n",
    "# sklearn.__version__"
   ]
  },
  {
   "cell_type": "code",
   "execution_count": 33,
   "metadata": {},
   "outputs": [
    {
     "name": "stdout",
     "output_type": "stream",
     "text": [
      "Testing model load: Accuracy result for GBT: 0.9097968936678614\n",
      "Testing model load: f1 result for GBT: 0.7436332767402376\n",
      "[[1304    3]\n",
      " [ 148  219]]\n",
      "              precision    recall  f1-score   support\n",
      "\n",
      "     Not hot       0.90      1.00      0.95      1307\n",
      "         hot       0.99      0.60      0.74       367\n",
      "\n",
      "    accuracy                           0.91      1674\n",
      "   macro avg       0.94      0.80      0.84      1674\n",
      "weighted avg       0.92      0.91      0.90      1674\n",
      "\n"
     ]
    }
   ],
   "source": [
    "#load pkl'd SVC clf one of these will need to be hashed out\n",
    "filename = \"models/SVC_vanilla_model.sav\" #note this is the 'Vanillia model', not the optimised tuned one, assume kernel = rbf\n",
    "#filename  = \"models/SVC_model_C_0_125_g_0_0078125.pkl\" #this is the HPT tuned model on more data - not present?\n",
    "#filename = \"models/SVC_final_model.pkl\" sklearn V 1.0.02 not compatible with current env\n",
    "SVC_loaded = pickle.load(open(filename, 'rb'))\n",
    "\n",
    "#test load\n",
    "a_result = SVC_loaded.score(X_train, y_train)\n",
    "f1_res = f1_score(y_train, SVC_loaded.predict(X_train))\n",
    "print('Testing model load: Accuracy result for SVC:' , a_result)\n",
    "print('Testing model load: f1 result for SVC:' , f1_res)\n",
    "print (confusion_matrix(y_train, SVC_loaded.predict(X_train)) )\n",
    "print (classification_report(y_train, SVC_loaded.predict(X_train), target_names=['Not hot', 'hot']) )"
   ]
  },
  {
   "cell_type": "code",
   "execution_count": 4,
   "metadata": {},
   "outputs": [],
   "source": [
    "#Get perm/feature importances ## NB THIS TOOK 88 mins, so written to pkl for future uses \n",
    "# perm_importance = permutation_importance(SVC_loaded, X_train, y_train)\n",
    "# print (len(perm_importance))"
   ]
  },
  {
   "cell_type": "code",
   "execution_count": 20,
   "metadata": {},
   "outputs": [],
   "source": [
    "filename = \"models/SVM_feat_imp_bunch_object_vanilla_model.sav\"\n",
    "#pickle.dump(perm_importance, open(filename, 'wb')) #the code to dump it\n",
    "perm_importance = pickle.load(open(filename, 'rb')) #the code to load it"
   ]
  },
  {
   "cell_type": "code",
   "execution_count": 21,
   "metadata": {},
   "outputs": [
    {
     "data": {
      "text/plain": [
       "sklearn.utils.Bunch"
      ]
     },
     "execution_count": 21,
     "metadata": {},
     "output_type": "execute_result"
    }
   ],
   "source": [
    "type(perm_importance)"
   ]
  },
  {
   "cell_type": "code",
   "execution_count": 22,
   "metadata": {},
   "outputs": [],
   "source": [
    "sorted_idx = perm_importance.importances_mean.argsort()"
   ]
  },
  {
   "cell_type": "code",
   "execution_count": 23,
   "metadata": {},
   "outputs": [
    {
     "data": {
      "text/plain": [
       "776"
      ]
     },
     "execution_count": 23,
     "metadata": {},
     "output_type": "execute_result"
    }
   ],
   "source": [
    "len(sorted_idx)"
   ]
  },
  {
   "cell_type": "code",
   "execution_count": 24,
   "metadata": {},
   "outputs": [
    {
     "data": {
      "text/plain": [
       "776"
      ]
     },
     "execution_count": 24,
     "metadata": {},
     "output_type": "execute_result"
    }
   ],
   "source": [
    "len(X_train.columns)"
   ]
  },
  {
   "cell_type": "code",
   "execution_count": 25,
   "metadata": {},
   "outputs": [],
   "source": [
    "features = np.array(list(X_train.columns.values))"
   ]
  },
  {
   "cell_type": "code",
   "execution_count": 11,
   "metadata": {},
   "outputs": [],
   "source": [
    "## Unhash this block to create viz of feature importance for all 776 features sorted by size\n",
    "# figure(figsize=(10, 80), dpi=100)\n",
    "# plt.barh(features[sorted_idx], perm_importance.importances_mean[sorted_idx])\n",
    "# plt.xlabel(\"Permutation Importance\")\n",
    "# plt.savefig(\"saved_work/SVC_long_feat_imp.png\")"
   ]
  },
  {
   "cell_type": "code",
   "execution_count": 26,
   "metadata": {},
   "outputs": [
    {
     "data": {
      "text/plain": [
       "768"
      ]
     },
     "execution_count": 26,
     "metadata": {},
     "output_type": "execute_result"
    }
   ],
   "source": [
    "bert_idx = np.flatnonzero(np.char.find(features, \"bert\")!=-1)\n",
    "len(bert_idx)"
   ]
  },
  {
   "cell_type": "code",
   "execution_count": 27,
   "metadata": {},
   "outputs": [
    {
     "data": {
      "text/plain": [
       "'post_sbert_384'"
      ]
     },
     "execution_count": 27,
     "metadata": {},
     "output_type": "execute_result"
    }
   ],
   "source": [
    "features[388] #shows post_sbert are 5:388 and comments sbert are 392:775 in between are 389:392"
   ]
  },
  {
   "cell_type": "code",
   "execution_count": 28,
   "metadata": {},
   "outputs": [
    {
     "name": "stdout",
     "output_type": "stream",
     "text": [
      "0.37132616487456205 0.12162485065711344\n"
     ]
    }
   ],
   "source": [
    "sbert_post_sum = np.sum(perm_importance.importances_mean[5:388])\n",
    "sbert_comm_sum = np.sum(perm_importance.importances_mean[392:775])\n",
    "print (sbert_post_sum, sbert_comm_sum)"
   ]
  },
  {
   "cell_type": "code",
   "execution_count": 29,
   "metadata": {},
   "outputs": [
    {
     "name": "stdout",
     "output_type": "stream",
     "text": [
      "['post_author_karma' 'number_comments_vs_hrs' 'post_sentiment' 'time_hour'\n",
      " 'day_of_week' 'avg_comment_upvotes_vs_hrs' 'avg_comment_author_karma'\n",
      " 'avg_comment_sentiment']\n",
      "[ 0.00657109  0.01015532 -0.00023895  0.00728793  0.00549582  0.01565114\n",
      "  0.00669056  0.00059737]\n"
     ]
    }
   ],
   "source": [
    "# Having located the sbert items they now need removing from both feature names and scoring arrays\n",
    "ind = np.indices(features.shape)[0]\n",
    "mylist=(slice(5,389),slice(392,776))\n",
    "rm = np.hstack([ind[i] for i in mylist])\n",
    "simplified_names = np.take(features, sorted(set(ind)-set(rm)))\n",
    "print(simplified_names) # should be small enough for visual confirmation\n",
    "simplified_fi_scores = np.take(perm_importance.importances_mean, sorted(set(ind)-set(rm)) )\n",
    "print (simplified_fi_scores)"
   ]
  },
  {
   "cell_type": "code",
   "execution_count": 30,
   "metadata": {},
   "outputs": [],
   "source": [
    "#Now just need to add sbert agregated names and scores to each array\n",
    "sb_simplified_names = np.append(simplified_names, ['SBERT_Post','SBERT_Comment_Avg'])\n",
    "sb_simplified_fi_scores = np.append(simplified_fi_scores, [sbert_post_sum, sbert_comm_sum]) \n",
    "sb_sorted_idx = np.argsort(sb_simplified_fi_scores)"
   ]
  },
  {
   "cell_type": "code",
   "execution_count": 31,
   "metadata": {},
   "outputs": [
    {
     "data": {
      "text/plain": [
       "array([2, 7, 4, 0, 6, 3, 1, 5, 9, 8])"
      ]
     },
     "execution_count": 31,
     "metadata": {},
     "output_type": "execute_result"
    }
   ],
   "source": [
    "sb_sorted_idx"
   ]
  },
  {
   "cell_type": "code",
   "execution_count": 32,
   "metadata": {},
   "outputs": [
    {
     "data": {
      "image/png": "[encoded data removed]",
      "text/plain": [
       "<Figure size 1200x400 with 1 Axes>"
      ]
     },
     "metadata": {
      "needs_background": "light"
     },
     "output_type": "display_data"
    }
   ],
   "source": [
    "figure(figsize=(12, 4), dpi=100)\n",
    "#plt.tight_layout()\n",
    "plt.barh(sb_simplified_names[sb_sorted_idx], sb_simplified_fi_scores[sb_sorted_idx])\n",
    "plt.xlabel(\"Permutation Importance\")\n",
    "plt.savefig(\"saved_work/SVC_simple_feat_imp.jpg\", bbox_inches='tight')#note works for .jpg but fails for .png"
   ]
  },
  {
   "cell_type": "code",
   "execution_count": 34,
   "metadata": {},
   "outputs": [
    {
     "name": "stdout",
     "output_type": "stream",
     "text": [
      "Testing model load: Accuracy result for GBT: 0.9324970131421745\n",
      "Testing model load: f1 result for GBT: 0.8320950965824666\n",
      "[[1281   26]\n",
      " [  87  280]]\n",
      "              precision    recall  f1-score   support\n",
      "\n",
      "     Not hot       0.94      0.98      0.96      1307\n",
      "         hot       0.92      0.76      0.83       367\n",
      "\n",
      "    accuracy                           0.93      1674\n",
      "   macro avg       0.93      0.87      0.89      1674\n",
      "weighted avg       0.93      0.93      0.93      1674\n",
      "\n"
     ]
    }
   ],
   "source": [
    "# Repeat of much of the above for LR\n",
    "\n",
    "filename = \"models/LogisticRegression_vanilla_model.sav\" #note this is the 'Vanillia model', not the optimised tuned one\n",
    "LR_loaded = pickle.load(open(filename, 'rb'))\n",
    "\n",
    "#test load\n",
    "a_result = LR_loaded.score(X_train, y_train)\n",
    "f1_res = f1_score(y_train, LR_loaded.predict(X_train))\n",
    "print('Testing model load: Accuracy result for LR:' , a_result)\n",
    "print('Testing model load: f1 result for LR:' , f1_res)\n",
    "print (confusion_matrix(y_train, LR_loaded.predict(X_train)) )\n",
    "print (classification_report(y_train, LR_loaded.predict(X_train), target_names=['Not hot', 'hot']) )"
   ]
  },
  {
   "cell_type": "code",
   "execution_count": 44,
   "metadata": {},
   "outputs": [
    {
     "name": "stdout",
     "output_type": "stream",
     "text": [
      "805\n"
     ]
    },
    {
     "data": {
      "image/png": "[encoded data removed]",
      "text/plain": [
       "<Figure size 432x288 with 1 Axes>"
      ]
     },
     "metadata": {
      "needs_background": "light"
     },
     "output_type": "display_data"
    }
   ],
   "source": [
    "importance = LR_loaded.steps[1][1].coef_\n",
    "print (len(importance[0]))\n",
    "\n",
    "# summarize feature importance\n",
    "# for i,v in enumerate(importance[0]):\n",
    "# \tprint('Feature: %0d, Score: %.5f' % (i,v))\n",
    "# plot feature importance\n",
    "pyplot.bar([x for x in range(len(importance[0]))], importance[0])\n",
    "pyplot.show()"
   ]
  },
  {
   "cell_type": "code",
   "execution_count": 45,
   "metadata": {},
   "outputs": [],
   "source": [
    "#backlog\n",
    "# scale the array to range{0:1}\n",
    "# determine labels for transformed 805 features\n",
    "# aggregate SBERT post and comment scores\n",
    "# viz\n"
   ]
  },
  {
   "cell_type": "code",
   "execution_count": 46,
   "metadata": {},
   "outputs": [],
   "source": [
    "def NormalizeData(data):\n",
    "    return (data - np.min(data)) / (np.max(data) - np.min(data))"
   ]
  },
  {
   "cell_type": "code",
   "execution_count": 47,
   "metadata": {},
   "outputs": [],
   "source": [
    "scaled_fimp = NormalizeData(importance[0])"
   ]
  },
  {
   "cell_type": "code",
   "execution_count": 49,
   "metadata": {},
   "outputs": [
    {
     "data": {
      "image/png": "[encoded data removed]",
      "text/plain": [
       "<Figure size 432x288 with 1 Axes>"
      ]
     },
     "metadata": {
      "needs_background": "light"
     },
     "output_type": "display_data"
    }
   ],
   "source": [
    "pyplot.bar([x for x in range(len(scaled_fimp))], scaled_fimp)\n",
    "pyplot.show()"
   ]
  },
  {
   "cell_type": "code",
   "execution_count": 51,
   "metadata": {},
   "outputs": [
    {
     "name": "stdout",
     "output_type": "stream",
     "text": [
      "1.0\n"
     ]
    }
   ],
   "source": [
    "def reduce_fimp(data):\n",
    "    return data/np.sum(data)\n",
    "fimp = reduce_fimp(scaled_fimp)\n",
    "print (np.sum(fimp))"
   ]
  },
  {
   "cell_type": "code",
   "execution_count": 52,
   "metadata": {},
   "outputs": [
    {
     "data": {
      "image/png": "[encoded data removed]",
      "text/plain": [
       "<Figure size 432x288 with 1 Axes>"
      ]
     },
     "metadata": {
      "needs_background": "light"
     },
     "output_type": "display_data"
    }
   ],
   "source": [
    "pyplot.bar([x for x in range(len(fimp))], fimp)\n",
    "pyplot.show()"
   ]
  },
  {
   "cell_type": "code",
   "execution_count": 53,
   "metadata": {},
   "outputs": [],
   "source": [
    "#Step 2 labels\n",
    "clabels_v2 = list(X_train.columns)\n",
    "clabels_v2.remove('time_hour')\n",
    "clabels_v2.remove('day_of_week')\n",
    "\n",
    "clabels_v2 = clabels_v2[0:3] + clabels_v2[387:390] + list(LR_loaded['preprocessor'].transformers_[1][1]['onehot'].get_feature_names()) + clabels_v2[3:387]+clabels_v2[390:]"
   ]
  },
  {
   "cell_type": "code",
   "execution_count": 54,
   "metadata": {},
   "outputs": [
    {
     "name": "stdout",
     "output_type": "stream",
     "text": [
      "Testing length of feature groups: should be 6,31,384,384. 6 31 384 384\n"
     ]
    }
   ],
   "source": [
    "first_six_scores = fimp[0:6]\n",
    "hours_and_days = fimp[6:37]\n",
    "sbert_post = fimp[37:421]\n",
    "sbert_comment = fimp[421:806]\n",
    "#test lengths\n",
    "print ('Testing length of feature groups: should be 6,31,384,384.',len(first_six_scores), len(hours_and_days), len(sbert_post), len(sbert_comment))\n",
    "\n",
    "sbert_post    = np.array([np.sum(sbert_post)])\n",
    "sbert_comment = np.array([np.sum(sbert_comment)])\n",
    "\n",
    "#create new labels and array of scores\n",
    "scoring_array = np.concatenate(\n",
    "  (first_six_scores,\n",
    "  hours_and_days,\n",
    "  sbert_post,\n",
    "  sbert_comment),\n",
    "  axis=None\n",
    ")"
   ]
  },
  {
   "cell_type": "code",
   "execution_count": 59,
   "metadata": {},
   "outputs": [],
   "source": [
    "short_label_list = clabels_v2[0:37] + ['SBERT_posts', 'SBERT_comments']\n",
    "new_combined_ns = (zip(short_label_list,scoring_array))\n",
    "df = pd.DataFrame(new_combined_ns, columns=['Feature','Importance'])\n",
    "#print (df)\n",
    "\n",
    "\n",
    "chart = alt.Chart(df).mark_bar().encode(\n",
    "  x = 'Feature:N',\n",
    "  y = 'Importance:Q'\n",
    ").properties(\n",
    "    title='Feature importances for Logistic Regression classifier'\n",
    ")\n",
    "\n",
    "save(chart, \"saved_work/lr_feat_imp_short.png\")\n"
   ]
  },
  {
   "cell_type": "code",
   "execution_count": 60,
   "metadata": {},
   "outputs": [
    {
     "data": {
      "text/html": [
       "\n",
       "<div id=\"altair-viz-d454428b8eec4543aa12fd81b2a1bda6\"></div>\n",
       "<script type=\"text/javascript\">\n",
       "  (function(spec, embedOpt){\n",
       "    let outputDiv = document.currentScript.previousElementSibling;\n",
       "    if (outputDiv.id !== \"altair-viz-d454428b8eec4543aa12fd81b2a1bda6\") {\n",
       "      outputDiv = document.getElementById(\"altair-viz-d454428b8eec4543aa12fd81b2a1bda6\");\n",
       "    }\n",
       "    const paths = {\n",
       "      \"vega\": \"https://cdn.jsdelivr.net/npm//vega@5?noext\",\n",
       "      \"vega-lib\": \"https://cdn.jsdelivr.net/npm//vega-lib?noext\",\n",
       "      \"vega-lite\": \"https://cdn.jsdelivr.net/npm//vega-lite@4.8.1?noext\",\n",
       "      \"vega-embed\": \"https://cdn.jsdelivr.net/npm//vega-embed@6?noext\",\n",
       "    };\n",
       "\n",
       "    function loadScript(lib) {\n",
       "      return new Promise(function(resolve, reject) {\n",
       "        var s = document.createElement('script');\n",
       "        s.src = paths[lib];\n",
       "        s.async = true;\n",
       "        s.onload = () => resolve(paths[lib]);\n",
       "        s.onerror = () => reject(`Error loading script: ${paths[lib]}`);\n",
       "        document.getElementsByTagName(\"head\")[0].appendChild(s);\n",
       "      });\n",
       "    }\n",
       "\n",
       "    function showError(err) {\n",
       "      outputDiv.innerHTML = `<div class=\"error\" style=\"color:red;\">${err}</div>`;\n",
       "      throw err;\n",
       "    }\n",
       "\n",
       "    function displayChart(vegaEmbed) {\n",
       "      vegaEmbed(outputDiv, spec, embedOpt)\n",
       "        .catch(err => showError(`Javascript Error: ${err.message}<br>This usually means there's a typo in your chart specification. See the javascript console for the full traceback.`));\n",
       "    }\n",
       "\n",
       "    if(typeof define === \"function\" && define.amd) {\n",
       "      requirejs.config({paths});\n",
       "      require([\"vega-embed\"], displayChart, err => showError(`Error loading script: ${err.message}`));\n",
       "    } else if (typeof vegaEmbed === \"function\") {\n",
       "      displayChart(vegaEmbed);\n",
       "    } else {\n",
       "      loadScript(\"vega\")\n",
       "        .then(() => loadScript(\"vega-lite\"))\n",
       "        .then(() => loadScript(\"vega-embed\"))\n",
       "        .catch(showError)\n",
       "        .then(() => displayChart(vegaEmbed));\n",
       "    }\n",
       "  })({\"config\": {\"view\": {\"continuousWidth\": 400, \"continuousHeight\": 300}}, \"data\": {\"name\": \"data-b2a7a3d6ca6d54cf91fb0a35d5567441\"}, \"mark\": \"bar\", \"encoding\": {\"x\": {\"type\": \"nominal\", \"field\": \"Feature\"}, \"y\": {\"type\": \"quantitative\", \"field\": \"Importance\"}}, \"title\": \"Feature importances for Logistic Regression classifier\", \"$schema\": \"https://vega.github.io/schema/vega-lite/v4.8.1.json\", \"datasets\": {\"data-b2a7a3d6ca6d54cf91fb0a35d5567441\": [{\"Feature\": \"post_author_karma\", \"Importance\": 0.0020015129058766753}, {\"Feature\": \"number_comments_vs_hrs\", \"Importance\": 0.0014443898373803015}, {\"Feature\": \"post_sentiment\", \"Importance\": 0.0016938710772590956}, {\"Feature\": \"avg_comment_upvotes_vs_hrs\", \"Importance\": 0.001288854655275962}, {\"Feature\": \"avg_comment_author_karma\", \"Importance\": 0.0007089883982317344}, {\"Feature\": \"avg_comment_sentiment\", \"Importance\": 0.0010923513600385939}, {\"Feature\": \"x0_0\", \"Importance\": 0.0011343281589964779}, {\"Feature\": \"x0_1\", \"Importance\": 0.001685266707620327}, {\"Feature\": \"x0_2\", \"Importance\": 0.0005529322011402976}, {\"Feature\": \"x0_3\", \"Importance\": 0.000707397395849717}, {\"Feature\": \"x0_4\", \"Importance\": 0.0006004039739275941}, {\"Feature\": \"x0_5\", \"Importance\": 0.0009660620572987785}, {\"Feature\": \"x0_6\", \"Importance\": 0.0011906163838969425}, {\"Feature\": \"x0_7\", \"Importance\": 0.0020676047281006503}, {\"Feature\": \"x0_8\", \"Importance\": 0.0014764821212592469}, {\"Feature\": \"x0_9\", \"Importance\": 0.0010710268230920506}, {\"Feature\": \"x0_10\", \"Importance\": 0.0010064253712729356}, {\"Feature\": \"x0_11\", \"Importance\": 0.001803275737230859}, {\"Feature\": \"x0_12\", \"Importance\": 0.0018594708180443705}, {\"Feature\": \"x0_13\", \"Importance\": 0.002192742285432602}, {\"Feature\": \"x0_14\", \"Importance\": 0.0010605993568064119}, {\"Feature\": \"x0_15\", \"Importance\": 0.0005123819330098839}, {\"Feature\": \"x0_16\", \"Importance\": 0.001260210345166612}, {\"Feature\": \"x0_17\", \"Importance\": 0.0013175033943021042}, {\"Feature\": \"x0_18\", \"Importance\": 0.0013055803185471223}, {\"Feature\": \"x0_19\", \"Importance\": 0.0011645941780317997}, {\"Feature\": \"x0_20\", \"Importance\": 0.0014436828645813758}, {\"Feature\": \"x0_21\", \"Importance\": 0.001617992910817264}, {\"Feature\": \"x0_22\", \"Importance\": 0.0004012663360278412}, {\"Feature\": \"x0_23\", \"Importance\": 0.0010888241462123018}, {\"Feature\": \"x1_0\", \"Importance\": 0.0014596781716133135}, {\"Feature\": \"x1_1\", \"Importance\": 0.0012453009019079697}, {\"Feature\": \"x1_2\", \"Importance\": 0.001588407271931356}, {\"Feature\": \"x1_3\", \"Importance\": 0.001881350222631919}, {\"Feature\": \"x1_4\", \"Importance\": 0.001013877118732006}, {\"Feature\": \"x1_5\", \"Importance\": 0.0009298355897194511}, {\"Feature\": \"x1_6\", \"Importance\": 0.0013095579307433498}, {\"Feature\": \"SBERT_posts\", \"Importance\": 0.47572180105875506}, {\"Feature\": \"SBERT_comments\", \"Importance\": 0.4771335529532378}]}}, {\"mode\": \"vega-lite\"});\n",
       "</script>"
      ],
      "text/plain": [
       "alt.Chart(...)"
      ]
     },
     "execution_count": 60,
     "metadata": {},
     "output_type": "execute_result"
    }
   ],
   "source": [
    "chart"
   ]
  },
  {
   "cell_type": "code",
   "execution_count": null,
   "metadata": {},
   "outputs": [],
   "source": []
  }
 ],
 "metadata": {
  "interpreter": {
   "hash": "767d51c1340bd893661ea55ea3124f6de3c7a262a8b4abca0554b478b1e2ff90"
  },
  "kernelspec": {
   "display_name": "Python 3 (ipykernel)",
   "language": "python",
   "name": "python3"
  },
  "language_info": {
   "codemirror_mode": {
    "name": "ipython",
    "version": 3
   },
   "file_extension": ".py",
   "mimetype": "text/x-python",
   "name": "python",
   "nbconvert_exporter": "python",
   "pygments_lexer": "ipython3",
   "version": "3.8.13"
  }
 },
 "nbformat": 4,
 "nbformat_minor": 2
}

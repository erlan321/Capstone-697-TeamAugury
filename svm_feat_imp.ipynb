{
 "cells": [
  {
   "cell_type": "code",
   "execution_count": 1,
   "metadata": {},
   "outputs": [],
   "source": [
    "import pandas as pd\n",
    "import numpy as np  \n",
    "from datetime import datetime \n",
    "from functions.Team_Augury_load_transform_saved import load_and_preprocess\n",
    "from sklearn.linear_model import LogisticRegression\n",
    "from sklearn.svm import SVC\n",
    "from sklearn.ensemble import GradientBoostingClassifier\n",
    "import pickle\n",
    "import matplotlib.pyplot as plt\n",
    "from matplotlib.pyplot import cla, figure\n",
    "import altair as alt\n",
    "from altair_saver import save\n",
    "from sklearn.inspection import permutation_importance\n"
   ]
  },
  {
   "cell_type": "code",
   "execution_count": 2,
   "metadata": {},
   "outputs": [
    {
     "name": "stdout",
     "output_type": "stream",
     "text": [
      "Loading features...\n",
      "data loaded and pre_processed\n",
      "Testing load, length of X, y: (1674, 776) (1674,)\n",
      "type <class 'pandas.core.frame.DataFrame'>\n"
     ]
    }
   ],
   "source": [
    "X_train, y_train = load_and_preprocess()\n",
    "print ('Testing load, length of X, y:', X_train.shape, y_train.shape)\n",
    "print ('type', type(X_train))"
   ]
  },
  {
   "cell_type": "code",
   "execution_count": 3,
   "metadata": {},
   "outputs": [
    {
     "name": "stdout",
     "output_type": "stream",
     "text": [
      "Testing model load: Accuracy result for GBT: 0.9097968936678614\n"
     ]
    }
   ],
   "source": [
    "#load pkl'd SVC clf\n",
    "filename = \"models/SVC_vanilla_model.sav\" #note this is the 'Vanillia model', not the optimised tuned one, assume kernel = rbf\n",
    "SVC_loaded = pickle.load(open(filename, 'rb'))\n",
    "\n",
    "#test load\n",
    "result = SVC_loaded.score(X_train, y_train)\n",
    "print('Testing model load: Accuracy result for GBT:' , result)"
   ]
  },
  {
   "cell_type": "code",
   "execution_count": 4,
   "metadata": {},
   "outputs": [],
   "source": [
    "#Get perm/feature importances\n",
    "perm_importance = permutation_importance(SVC_loaded, X_train, y_train)\n",
    "print (len(perm_importance))"
   ]
  },
  {
   "cell_type": "code",
   "execution_count": null,
   "metadata": {},
   "outputs": [],
   "source": [
    "#recombining features to match labels to features:\n",
    "clabels_v2 = list(X_train.columns)\n",
    "clabels_v2.remove('time_hour')\n",
    "clabels_v2.remove('day_of_week')\n",
    "\n",
    "#names of new cols inserted for Day of Week/Hour of day\n",
    "HOD_names = list(SVC_loaded['preprocessor'].transformers_[1][1]['onehot'].get_feature_names())\n",
    "\n",
    "# In the transformed X array from the pipeline\n",
    "slice_di = {'first_three'   : [0:3],\n",
    "            'HOD_DOW'       : [3:34],\n",
    "            'SBERT_P'       : [34:418],\n",
    "            'Middle three'  : [418:421],\n",
    "            'SBERT_C'       : [421:806]\n",
    "            }"
   ]
  }
 ],
 "metadata": {
  "interpreter": {
   "hash": "767d51c1340bd893661ea55ea3124f6de3c7a262a8b4abca0554b478b1e2ff90"
  },
  "kernelspec": {
   "display_name": "Python 3.6.9 64-bit",
   "language": "python",
   "name": "python3"
  },
  "language_info": {
   "codemirror_mode": {
    "name": "ipython",
    "version": 3
   },
   "file_extension": ".py",
   "mimetype": "text/x-python",
   "name": "python",
   "nbconvert_exporter": "python",
   "pygments_lexer": "ipython3",
   "version": "3.6.9"
  },
  "orig_nbformat": 4
 },
 "nbformat": 4,
 "nbformat_minor": 2
}

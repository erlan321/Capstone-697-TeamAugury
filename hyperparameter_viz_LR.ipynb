{
 "cells": [
  {
   "cell_type": "code",
   "execution_count": 1,
   "metadata": {
    "executionInfo": {
     "elapsed": 1290,
     "status": "ok",
     "timestamp": 1650353450430,
     "user": {
      "displayName": "Erik Lang",
      "userId": "07461174803850440376"
     },
     "user_tz": 240
    },
    "id": "HLM0LDJuEIuL"
   },
   "outputs": [],
   "source": [
    "import pandas as pd\n",
    "import numpy as np  \n",
    "#from datetime import datetime\n",
    "import altair as alt"
   ]
  },
  {
   "cell_type": "code",
   "execution_count": null,
   "metadata": {
    "id": "PI6OAsItFA1i"
   },
   "outputs": [],
   "source": []
  },
  {
   "cell_type": "code",
   "execution_count": 3,
   "metadata": {
    "colab": {
     "base_uri": "https://localhost:8080/"
    },
    "executionInfo": {
     "elapsed": 17746,
     "status": "ok",
     "timestamp": 1650353468164,
     "user": {
      "displayName": "Erik Lang",
      "userId": "07461174803850440376"
     },
     "user_tz": 240
    },
    "id": "SKhH-YTsEjjY",
    "outputId": "961163e5-9f49-4a9b-adeb-5b1fa506d195"
   },
   "outputs": [],
   "source": [
    "# from google.colab import drive  #needed to access a file on google drive\n",
    "# drive.mount('/content/gdrive')\n",
    "\n",
    "csv_data = pd.read_csv(\"saved_work/hp_tuning_LogReg.csv\")"
   ]
  },
  {
   "cell_type": "code",
   "execution_count": 6,
   "metadata": {
    "colab": {
     "base_uri": "https://localhost:8080/",
     "height": 424
    },
    "executionInfo": {
     "elapsed": 32,
     "status": "ok",
     "timestamp": 1650353468166,
     "user": {
      "displayName": "Erik Lang",
      "userId": "07461174803850440376"
     },
     "user_tz": 240
    },
    "id": "XeM9l3WhFNmA",
    "outputId": "51888787-4a2d-41ff-edf4-89f64c3c5357"
   },
   "outputs": [
    {
     "data": {
      "text/html": [
       "<div>\n",
       "<style scoped>\n",
       "    .dataframe tbody tr th:only-of-type {\n",
       "        vertical-align: middle;\n",
       "    }\n",
       "\n",
       "    .dataframe tbody tr th {\n",
       "        vertical-align: top;\n",
       "    }\n",
       "\n",
       "    .dataframe thead th {\n",
       "        text-align: right;\n",
       "    }\n",
       "</style>\n",
       "<table border=\"1\" class=\"dataframe\">\n",
       "  <thead>\n",
       "    <tr style=\"text-align: right;\">\n",
       "      <th></th>\n",
       "      <th>Result</th>\n",
       "      <th>model_param</th>\n",
       "      <th>Score</th>\n",
       "      <th>type</th>\n",
       "      <th>C</th>\n",
       "      <th>penalty</th>\n",
       "      <th>solver</th>\n",
       "    </tr>\n",
       "  </thead>\n",
       "  <tbody>\n",
       "    <tr>\n",
       "      <th>0</th>\n",
       "      <td>0.849720</td>\n",
       "      <td>l2 / liblinear / 0.03125</td>\n",
       "      <td>Accuracy</td>\n",
       "      <td>train</td>\n",
       "      <td>0.03125</td>\n",
       "      <td>l2</td>\n",
       "      <td>liblinear</td>\n",
       "    </tr>\n",
       "    <tr>\n",
       "      <th>1</th>\n",
       "      <td>0.848131</td>\n",
       "      <td>l2 / lbfgs / 0.03125</td>\n",
       "      <td>Accuracy</td>\n",
       "      <td>train</td>\n",
       "      <td>0.03125</td>\n",
       "      <td>l2</td>\n",
       "      <td>lbfgs</td>\n",
       "    </tr>\n",
       "    <tr>\n",
       "      <th>2</th>\n",
       "      <td>0.860748</td>\n",
       "      <td>l2 / liblinear / 0.0625</td>\n",
       "      <td>Accuracy</td>\n",
       "      <td>train</td>\n",
       "      <td>0.06250</td>\n",
       "      <td>l2</td>\n",
       "      <td>liblinear</td>\n",
       "    </tr>\n",
       "    <tr>\n",
       "      <th>3</th>\n",
       "      <td>0.861402</td>\n",
       "      <td>l2 / lbfgs / 0.0625</td>\n",
       "      <td>Accuracy</td>\n",
       "      <td>train</td>\n",
       "      <td>0.06250</td>\n",
       "      <td>l2</td>\n",
       "      <td>lbfgs</td>\n",
       "    </tr>\n",
       "    <tr>\n",
       "      <th>4</th>\n",
       "      <td>0.824486</td>\n",
       "      <td>l1 / liblinear / 0.125</td>\n",
       "      <td>Accuracy</td>\n",
       "      <td>train</td>\n",
       "      <td>0.12500</td>\n",
       "      <td>l1</td>\n",
       "      <td>liblinear</td>\n",
       "    </tr>\n",
       "    <tr>\n",
       "      <th>...</th>\n",
       "      <td>...</td>\n",
       "      <td>...</td>\n",
       "      <td>...</td>\n",
       "      <td>...</td>\n",
       "      <td>...</td>\n",
       "      <td>...</td>\n",
       "      <td>...</td>\n",
       "    </tr>\n",
       "    <tr>\n",
       "      <th>139</th>\n",
       "      <td>0.351274</td>\n",
       "      <td>l2 / lbfgs / 64.0</td>\n",
       "      <td>F1</td>\n",
       "      <td>test</td>\n",
       "      <td>64.00000</td>\n",
       "      <td>l2</td>\n",
       "      <td>lbfgs</td>\n",
       "    </tr>\n",
       "    <tr>\n",
       "      <th>140</th>\n",
       "      <td>0.252406</td>\n",
       "      <td>l2 / lbfgs / 0.01</td>\n",
       "      <td>F1</td>\n",
       "      <td>test</td>\n",
       "      <td>0.01000</td>\n",
       "      <td>l2</td>\n",
       "      <td>lbfgs</td>\n",
       "    </tr>\n",
       "    <tr>\n",
       "      <th>141</th>\n",
       "      <td>0.366474</td>\n",
       "      <td>l2 / lbfgs / 0.1</td>\n",
       "      <td>F1</td>\n",
       "      <td>test</td>\n",
       "      <td>0.10000</td>\n",
       "      <td>l2</td>\n",
       "      <td>lbfgs</td>\n",
       "    </tr>\n",
       "    <tr>\n",
       "      <th>142</th>\n",
       "      <td>0.394334</td>\n",
       "      <td>l2 / lbfgs / 1</td>\n",
       "      <td>F1</td>\n",
       "      <td>test</td>\n",
       "      <td>1.00000</td>\n",
       "      <td>l2</td>\n",
       "      <td>lbfgs</td>\n",
       "    </tr>\n",
       "    <tr>\n",
       "      <th>143</th>\n",
       "      <td>0.370889</td>\n",
       "      <td>l2 / lbfgs / 10</td>\n",
       "      <td>F1</td>\n",
       "      <td>test</td>\n",
       "      <td>10.00000</td>\n",
       "      <td>l2</td>\n",
       "      <td>lbfgs</td>\n",
       "    </tr>\n",
       "  </tbody>\n",
       "</table>\n",
       "<p>144 rows × 7 columns</p>\n",
       "</div>"
      ],
      "text/plain": [
       "       Result               model_param     Score   type         C penalty  \\\n",
       "0    0.849720  l2 / liblinear / 0.03125  Accuracy  train   0.03125      l2   \n",
       "1    0.848131      l2 / lbfgs / 0.03125  Accuracy  train   0.03125      l2   \n",
       "2    0.860748   l2 / liblinear / 0.0625  Accuracy  train   0.06250      l2   \n",
       "3    0.861402       l2 / lbfgs / 0.0625  Accuracy  train   0.06250      l2   \n",
       "4    0.824486    l1 / liblinear / 0.125  Accuracy  train   0.12500      l1   \n",
       "..        ...                       ...       ...    ...       ...     ...   \n",
       "139  0.351274         l2 / lbfgs / 64.0        F1   test  64.00000      l2   \n",
       "140  0.252406         l2 / lbfgs / 0.01        F1   test   0.01000      l2   \n",
       "141  0.366474          l2 / lbfgs / 0.1        F1   test   0.10000      l2   \n",
       "142  0.394334            l2 / lbfgs / 1        F1   test   1.00000      l2   \n",
       "143  0.370889           l2 / lbfgs / 10        F1   test  10.00000      l2   \n",
       "\n",
       "        solver  \n",
       "0    liblinear  \n",
       "1        lbfgs  \n",
       "2    liblinear  \n",
       "3        lbfgs  \n",
       "4    liblinear  \n",
       "..         ...  \n",
       "139      lbfgs  \n",
       "140      lbfgs  \n",
       "141      lbfgs  \n",
       "142      lbfgs  \n",
       "143      lbfgs  \n",
       "\n",
       "[144 rows x 7 columns]"
      ]
     },
     "execution_count": 6,
     "metadata": {},
     "output_type": "execute_result"
    }
   ],
   "source": [
    "csv_data"
   ]
  },
  {
   "cell_type": "code",
   "execution_count": 7,
   "metadata": {
    "colab": {
     "base_uri": "https://localhost:8080/"
    },
    "executionInfo": {
     "elapsed": 25,
     "status": "ok",
     "timestamp": 1650353468167,
     "user": {
      "displayName": "Erik Lang",
      "userId": "07461174803850440376"
     },
     "user_tz": 240
    },
    "id": "2HBCIQtqYSp9",
    "outputId": "fb4baa33-13c4-4002-c91c-9ead500b660a"
   },
   "outputs": [
    {
     "data": {
      "text/plain": [
       "36"
      ]
     },
     "execution_count": 7,
     "metadata": {},
     "output_type": "execute_result"
    }
   ],
   "source": [
    "### how many iterations did we do?\n",
    "len(csv_data.model_param.unique())"
   ]
  },
  {
   "cell_type": "code",
   "execution_count": 8,
   "metadata": {
    "colab": {
     "base_uri": "https://localhost:8080/",
     "height": 471
    },
    "executionInfo": {
     "elapsed": 150,
     "status": "ok",
     "timestamp": 1649845921955,
     "user": {
      "displayName": "Erik Lang",
      "userId": "07461174803850440376"
     },
     "user_tz": 240
    },
    "id": "S28dX6WLFirp",
    "outputId": "d22dacf9-913a-4d5b-c497-0c36ec1c8420"
   },
   "outputs": [
    {
     "data": {
      "text/html": [
       "\n",
       "<div id=\"altair-viz-5feaada62ef8490b8e0a9174e8a65cc0\"></div>\n",
       "<script type=\"text/javascript\">\n",
       "  var VEGA_DEBUG = (typeof VEGA_DEBUG == \"undefined\") ? {} : VEGA_DEBUG;\n",
       "  (function(spec, embedOpt){\n",
       "    let outputDiv = document.currentScript.previousElementSibling;\n",
       "    if (outputDiv.id !== \"altair-viz-5feaada62ef8490b8e0a9174e8a65cc0\") {\n",
       "      outputDiv = document.getElementById(\"altair-viz-5feaada62ef8490b8e0a9174e8a65cc0\");\n",
       "    }\n",
       "    const paths = {\n",
       "      \"vega\": \"https://cdn.jsdelivr.net/npm//vega@5?noext\",\n",
       "      \"vega-lib\": \"https://cdn.jsdelivr.net/npm//vega-lib?noext\",\n",
       "      \"vega-lite\": \"https://cdn.jsdelivr.net/npm//vega-lite@4.17.0?noext\",\n",
       "      \"vega-embed\": \"https://cdn.jsdelivr.net/npm//vega-embed@6?noext\",\n",
       "    };\n",
       "\n",
       "    function maybeLoadScript(lib, version) {\n",
       "      var key = `${lib.replace(\"-\", \"\")}_version`;\n",
       "      return (VEGA_DEBUG[key] == version) ?\n",
       "        Promise.resolve(paths[lib]) :\n",
       "        new Promise(function(resolve, reject) {\n",
       "          var s = document.createElement('script');\n",
       "          document.getElementsByTagName(\"head\")[0].appendChild(s);\n",
       "          s.async = true;\n",
       "          s.onload = () => {\n",
       "            VEGA_DEBUG[key] = version;\n",
       "            return resolve(paths[lib]);\n",
       "          };\n",
       "          s.onerror = () => reject(`Error loading script: ${paths[lib]}`);\n",
       "          s.src = paths[lib];\n",
       "        });\n",
       "    }\n",
       "\n",
       "    function showError(err) {\n",
       "      outputDiv.innerHTML = `<div class=\"error\" style=\"color:red;\">${err}</div>`;\n",
       "      throw err;\n",
       "    }\n",
       "\n",
       "    function displayChart(vegaEmbed) {\n",
       "      vegaEmbed(outputDiv, spec, embedOpt)\n",
       "        .catch(err => showError(`Javascript Error: ${err.message}<br>This usually means there's a typo in your chart specification. See the javascript console for the full traceback.`));\n",
       "    }\n",
       "\n",
       "    if(typeof define === \"function\" && define.amd) {\n",
       "      requirejs.config({paths});\n",
       "      require([\"vega-embed\"], displayChart, err => showError(`Error loading script: ${err.message}`));\n",
       "    } else {\n",
       "      maybeLoadScript(\"vega\", \"5\")\n",
       "        .then(() => maybeLoadScript(\"vega-lite\", \"4.17.0\"))\n",
       "        .then(() => maybeLoadScript(\"vega-embed\", \"6\"))\n",
       "        .catch(showError)\n",
       "        .then(() => displayChart(vegaEmbed));\n",
       "    }\n",
       "  })({\"config\": {\"view\": {\"continuousWidth\": 400, \"continuousHeight\": 300}}, \"data\": {\"name\": \"data-912e8f32b5cb84911d829027e7f3bed3\"}, \"mark\": \"line\", \"encoding\": {\"color\": {\"field\": \"type\", \"type\": \"nominal\"}, \"tooltip\": {\"field\": \"Result\", \"type\": \"quantitative\"}, \"x\": {\"field\": \"model_param\", \"type\": \"ordinal\"}, \"y\": {\"field\": \"Result\", \"type\": \"quantitative\"}}, \"title\": \"F1 Score\", \"$schema\": \"https://vega.github.io/schema/vega-lite/v4.17.0.json\", \"datasets\": {\"data-912e8f32b5cb84911d829027e7f3bed3\": [{\"Result\": 0.5206228741029575, \"model_param\": \"l2 / liblinear / 0.03125\", \"Score\": \"F1\", \"type\": \"train\", \"C\": 0.03125, \"penalty\": \"l2\", \"solver\": \"liblinear\"}, {\"Result\": 0.5029453524143238, \"model_param\": \"l2 / lbfgs / 0.03125\", \"Score\": \"F1\", \"type\": \"train\", \"C\": 0.03125, \"penalty\": \"l2\", \"solver\": \"lbfgs\"}, {\"Result\": 0.5724158551536398, \"model_param\": \"l2 / liblinear / 0.0625\", \"Score\": \"F1\", \"type\": \"train\", \"C\": 0.0625, \"penalty\": \"l2\", \"solver\": \"liblinear\"}, {\"Result\": 0.5712153497484962, \"model_param\": \"l2 / lbfgs / 0.0625\", \"Score\": \"F1\", \"type\": \"train\", \"C\": 0.0625, \"penalty\": \"l2\", \"solver\": \"lbfgs\"}, {\"Result\": 0.3665476240838805, \"model_param\": \"l1 / liblinear / 0.125\", \"Score\": \"F1\", \"type\": \"train\", \"C\": 0.125, \"penalty\": \"l1\", \"solver\": \"liblinear\"}, {\"Result\": 0.6304577251253108, \"model_param\": \"l2 / liblinear / 0.125\", \"Score\": \"F1\", \"type\": \"train\", \"C\": 0.125, \"penalty\": \"l2\", \"solver\": \"liblinear\"}, {\"Result\": 0.6306325798341652, \"model_param\": \"l2 / lbfgs / 0.125\", \"Score\": \"F1\", \"type\": \"train\", \"C\": 0.125, \"penalty\": \"l2\", \"solver\": \"lbfgs\"}, {\"Result\": 0.4915420021584259, \"model_param\": \"l1 / liblinear / 0.25\", \"Score\": \"F1\", \"type\": \"train\", \"C\": 0.25, \"penalty\": \"l1\", \"solver\": \"liblinear\"}, {\"Result\": 0.6830248989135719, \"model_param\": \"l2 / liblinear / 0.25\", \"Score\": \"F1\", \"type\": \"train\", \"C\": 0.25, \"penalty\": \"l2\", \"solver\": \"liblinear\"}, {\"Result\": 0.6834592409013612, \"model_param\": \"l2 / lbfgs / 0.25\", \"Score\": \"F1\", \"type\": \"train\", \"C\": 0.25, \"penalty\": \"l2\", \"solver\": \"lbfgs\"}, {\"Result\": 0.5957195654931132, \"model_param\": \"l1 / liblinear / 0.5\", \"Score\": \"F1\", \"type\": \"train\", \"C\": 0.5, \"penalty\": \"l1\", \"solver\": \"liblinear\"}, {\"Result\": 0.7230176067474886, \"model_param\": \"l2 / liblinear / 0.5\", \"Score\": \"F1\", \"type\": \"train\", \"C\": 0.5, \"penalty\": \"l2\", \"solver\": \"liblinear\"}, {\"Result\": 0.7228466984607677, \"model_param\": \"l2 / lbfgs / 0.5\", \"Score\": \"F1\", \"type\": \"train\", \"C\": 0.5, \"penalty\": \"l2\", \"solver\": \"lbfgs\"}, {\"Result\": 0.6933777072234039, \"model_param\": \"l1 / liblinear / 1.0\", \"Score\": \"F1\", \"type\": \"train\", \"C\": 1.0, \"penalty\": \"l1\", \"solver\": \"liblinear\"}, {\"Result\": 0.7651049438363925, \"model_param\": \"l2 / liblinear / 1.0\", \"Score\": \"F1\", \"type\": \"train\", \"C\": 1.0, \"penalty\": \"l2\", \"solver\": \"liblinear\"}, {\"Result\": 0.7642046502334577, \"model_param\": \"l2 / lbfgs / 1.0\", \"Score\": \"F1\", \"type\": \"train\", \"C\": 1.0, \"penalty\": \"l2\", \"solver\": \"lbfgs\"}, {\"Result\": 0.7821112514229485, \"model_param\": \"l1 / liblinear / 2.0\", \"Score\": \"F1\", \"type\": \"train\", \"C\": 2.0, \"penalty\": \"l1\", \"solver\": \"liblinear\"}, {\"Result\": 0.8014480441209146, \"model_param\": \"l2 / liblinear / 2.0\", \"Score\": \"F1\", \"type\": \"train\", \"C\": 2.0, \"penalty\": \"l2\", \"solver\": \"liblinear\"}, {\"Result\": 0.803157714743632, \"model_param\": \"l2 / lbfgs / 2.0\", \"Score\": \"F1\", \"type\": \"train\", \"C\": 2.0, \"penalty\": \"l2\", \"solver\": \"lbfgs\"}, {\"Result\": 0.8431875091304549, \"model_param\": \"l1 / liblinear / 4.0\", \"Score\": \"F1\", \"type\": \"train\", \"C\": 4.0, \"penalty\": \"l1\", \"solver\": \"liblinear\"}, {\"Result\": 0.8322515158615745, \"model_param\": \"l2 / liblinear / 4.0\", \"Score\": \"F1\", \"type\": \"train\", \"C\": 4.0, \"penalty\": \"l2\", \"solver\": \"liblinear\"}, {\"Result\": 0.8317689544565148, \"model_param\": \"l2 / lbfgs / 4.0\", \"Score\": \"F1\", \"type\": \"train\", \"C\": 4.0, \"penalty\": \"l2\", \"solver\": \"lbfgs\"}, {\"Result\": 0.91099322886027, \"model_param\": \"l1 / liblinear / 8.0\", \"Score\": \"F1\", \"type\": \"train\", \"C\": 8.0, \"penalty\": \"l1\", \"solver\": \"liblinear\"}, {\"Result\": 0.863595078319969, \"model_param\": \"l2 / liblinear / 8.0\", \"Score\": \"F1\", \"type\": \"train\", \"C\": 8.0, \"penalty\": \"l2\", \"solver\": \"liblinear\"}, {\"Result\": 0.8632565214805901, \"model_param\": \"l2 / lbfgs / 8.0\", \"Score\": \"F1\", \"type\": \"train\", \"C\": 8.0, \"penalty\": \"l2\", \"solver\": \"lbfgs\"}, {\"Result\": 0.9736956820918904, \"model_param\": \"l1 / liblinear / 16.0\", \"Score\": \"F1\", \"type\": \"train\", \"C\": 16.0, \"penalty\": \"l1\", \"solver\": \"liblinear\"}, {\"Result\": 0.8968138355026938, \"model_param\": \"l2 / liblinear / 16.0\", \"Score\": \"F1\", \"type\": \"train\", \"C\": 16.0, \"penalty\": \"l2\", \"solver\": \"liblinear\"}, {\"Result\": 0.8968138355026938, \"model_param\": \"l2 / lbfgs / 16.0\", \"Score\": \"F1\", \"type\": \"train\", \"C\": 16.0, \"penalty\": \"l2\", \"solver\": \"lbfgs\"}, {\"Result\": 0.9305701280136244, \"model_param\": \"l2 / liblinear / 32.0\", \"Score\": \"F1\", \"type\": \"train\", \"C\": 32.0, \"penalty\": \"l2\", \"solver\": \"liblinear\"}, {\"Result\": 0.9303168619598468, \"model_param\": \"l2 / lbfgs / 32.0\", \"Score\": \"F1\", \"type\": \"train\", \"C\": 32.0, \"penalty\": \"l2\", \"solver\": \"lbfgs\"}, {\"Result\": 0.961001331651755, \"model_param\": \"l2 / liblinear / 64.0\", \"Score\": \"F1\", \"type\": \"train\", \"C\": 64.0, \"penalty\": \"l2\", \"solver\": \"liblinear\"}, {\"Result\": 0.960777446780645, \"model_param\": \"l2 / lbfgs / 64.0\", \"Score\": \"F1\", \"type\": \"train\", \"C\": 64.0, \"penalty\": \"l2\", \"solver\": \"lbfgs\"}, {\"Result\": 0.3541310240272885, \"model_param\": \"l2 / lbfgs / 0.01\", \"Score\": \"F1\", \"type\": \"train\", \"C\": 0.01, \"penalty\": \"l2\", \"solver\": \"lbfgs\"}, {\"Result\": 0.6140835912909439, \"model_param\": \"l2 / lbfgs / 0.1\", \"Score\": \"F1\", \"type\": \"train\", \"C\": 0.1, \"penalty\": \"l2\", \"solver\": \"lbfgs\"}, {\"Result\": 0.7642046502334577, \"model_param\": \"l2 / lbfgs / 1\", \"Score\": \"F1\", \"type\": \"train\", \"C\": 1.0, \"penalty\": \"l2\", \"solver\": \"lbfgs\"}, {\"Result\": 0.8741452012411323, \"model_param\": \"l2 / lbfgs / 10\", \"Score\": \"F1\", \"type\": \"train\", \"C\": 10.0, \"penalty\": \"l2\", \"solver\": \"lbfgs\"}, {\"Result\": 0.3414564337497388, \"model_param\": \"l2 / liblinear / 0.03125\", \"Score\": \"F1\", \"type\": \"test\", \"C\": 0.03125, \"penalty\": \"l2\", \"solver\": \"liblinear\"}, {\"Result\": 0.3261505186962111, \"model_param\": \"l2 / lbfgs / 0.03125\", \"Score\": \"F1\", \"type\": \"test\", \"C\": 0.03125, \"penalty\": \"l2\", \"solver\": \"lbfgs\"}, {\"Result\": 0.368236096011363, \"model_param\": \"l2 / liblinear / 0.0625\", \"Score\": \"F1\", \"type\": \"test\", \"C\": 0.0625, \"penalty\": \"l2\", \"solver\": \"liblinear\"}, {\"Result\": 0.3622484984553368, \"model_param\": \"l2 / lbfgs / 0.0625\", \"Score\": \"F1\", \"type\": \"test\", \"C\": 0.0625, \"penalty\": \"l2\", \"solver\": \"lbfgs\"}, {\"Result\": 0.2870086405807618, \"model_param\": \"l1 / liblinear / 0.125\", \"Score\": \"F1\", \"type\": \"test\", \"C\": 0.125, \"penalty\": \"l1\", \"solver\": \"liblinear\"}, {\"Result\": 0.377581011547144, \"model_param\": \"l2 / liblinear / 0.125\", \"Score\": \"F1\", \"type\": \"test\", \"C\": 0.125, \"penalty\": \"l2\", \"solver\": \"liblinear\"}, {\"Result\": 0.3790171996462252, \"model_param\": \"l2 / lbfgs / 0.125\", \"Score\": \"F1\", \"type\": \"test\", \"C\": 0.125, \"penalty\": \"l2\", \"solver\": \"lbfgs\"}, {\"Result\": 0.3458337336587178, \"model_param\": \"l1 / liblinear / 0.25\", \"Score\": \"F1\", \"type\": \"test\", \"C\": 0.25, \"penalty\": \"l1\", \"solver\": \"liblinear\"}, {\"Result\": 0.3789941013467445, \"model_param\": \"l2 / liblinear / 0.25\", \"Score\": \"F1\", \"type\": \"test\", \"C\": 0.25, \"penalty\": \"l2\", \"solver\": \"liblinear\"}, {\"Result\": 0.3845916525750012, \"model_param\": \"l2 / lbfgs / 0.25\", \"Score\": \"F1\", \"type\": \"test\", \"C\": 0.25, \"penalty\": \"l2\", \"solver\": \"lbfgs\"}, {\"Result\": 0.3642453592198482, \"model_param\": \"l1 / liblinear / 0.5\", \"Score\": \"F1\", \"type\": \"test\", \"C\": 0.5, \"penalty\": \"l1\", \"solver\": \"liblinear\"}, {\"Result\": 0.3839050585725549, \"model_param\": \"l2 / liblinear / 0.5\", \"Score\": \"F1\", \"type\": \"test\", \"C\": 0.5, \"penalty\": \"l2\", \"solver\": \"liblinear\"}, {\"Result\": 0.3887082878709534, \"model_param\": \"l2 / lbfgs / 0.5\", \"Score\": \"F1\", \"type\": \"test\", \"C\": 0.5, \"penalty\": \"l2\", \"solver\": \"lbfgs\"}, {\"Result\": 0.3794693218367614, \"model_param\": \"l1 / liblinear / 1.0\", \"Score\": \"F1\", \"type\": \"test\", \"C\": 1.0, \"penalty\": \"l1\", \"solver\": \"liblinear\"}, {\"Result\": 0.3959081015705588, \"model_param\": \"l2 / liblinear / 1.0\", \"Score\": \"F1\", \"type\": \"test\", \"C\": 1.0, \"penalty\": \"l2\", \"solver\": \"liblinear\"}, {\"Result\": 0.3943335830639413, \"model_param\": \"l2 / lbfgs / 1.0\", \"Score\": \"F1\", \"type\": \"test\", \"C\": 1.0, \"penalty\": \"l2\", \"solver\": \"lbfgs\"}, {\"Result\": 0.3774358974358974, \"model_param\": \"l1 / liblinear / 2.0\", \"Score\": \"F1\", \"type\": \"test\", \"C\": 2.0, \"penalty\": \"l1\", \"solver\": \"liblinear\"}, {\"Result\": 0.3887101178488715, \"model_param\": \"l2 / liblinear / 2.0\", \"Score\": \"F1\", \"type\": \"test\", \"C\": 2.0, \"penalty\": \"l2\", \"solver\": \"liblinear\"}, {\"Result\": 0.3889656007292086, \"model_param\": \"l2 / lbfgs / 2.0\", \"Score\": \"F1\", \"type\": \"test\", \"C\": 2.0, \"penalty\": \"l2\", \"solver\": \"lbfgs\"}, {\"Result\": 0.3691038736952249, \"model_param\": \"l1 / liblinear / 4.0\", \"Score\": \"F1\", \"type\": \"test\", \"C\": 4.0, \"penalty\": \"l1\", \"solver\": \"liblinear\"}, {\"Result\": 0.387570537718965, \"model_param\": \"l2 / liblinear / 4.0\", \"Score\": \"F1\", \"type\": \"test\", \"C\": 4.0, \"penalty\": \"l2\", \"solver\": \"liblinear\"}, {\"Result\": 0.386791721519588, \"model_param\": \"l2 / lbfgs / 4.0\", \"Score\": \"F1\", \"type\": \"test\", \"C\": 4.0, \"penalty\": \"l2\", \"solver\": \"lbfgs\"}, {\"Result\": 0.3693561446030752, \"model_param\": \"l1 / liblinear / 8.0\", \"Score\": \"F1\", \"type\": \"test\", \"C\": 8.0, \"penalty\": \"l1\", \"solver\": \"liblinear\"}, {\"Result\": 0.3769533652401329, \"model_param\": \"l2 / liblinear / 8.0\", \"Score\": \"F1\", \"type\": \"test\", \"C\": 8.0, \"penalty\": \"l2\", \"solver\": \"liblinear\"}, {\"Result\": 0.3776249144917297, \"model_param\": \"l2 / lbfgs / 8.0\", \"Score\": \"F1\", \"type\": \"test\", \"C\": 8.0, \"penalty\": \"l2\", \"solver\": \"lbfgs\"}, {\"Result\": 0.3658234334750556, \"model_param\": \"l1 / liblinear / 16.0\", \"Score\": \"F1\", \"type\": \"test\", \"C\": 16.0, \"penalty\": \"l1\", \"solver\": \"liblinear\"}, {\"Result\": 0.3604544352068777, \"model_param\": \"l2 / liblinear / 16.0\", \"Score\": \"F1\", \"type\": \"test\", \"C\": 16.0, \"penalty\": \"l2\", \"solver\": \"liblinear\"}, {\"Result\": 0.3622322129846555, \"model_param\": \"l2 / lbfgs / 16.0\", \"Score\": \"F1\", \"type\": \"test\", \"C\": 16.0, \"penalty\": \"l2\", \"solver\": \"lbfgs\"}, {\"Result\": 0.3668758857790074, \"model_param\": \"l2 / liblinear / 32.0\", \"Score\": \"F1\", \"type\": \"test\", \"C\": 32.0, \"penalty\": \"l2\", \"solver\": \"liblinear\"}, {\"Result\": 0.3683296318343916, \"model_param\": \"l2 / lbfgs / 32.0\", \"Score\": \"F1\", \"type\": \"test\", \"C\": 32.0, \"penalty\": \"l2\", \"solver\": \"lbfgs\"}, {\"Result\": 0.3494891365428452, \"model_param\": \"l2 / liblinear / 64.0\", \"Score\": \"F1\", \"type\": \"test\", \"C\": 64.0, \"penalty\": \"l2\", \"solver\": \"liblinear\"}, {\"Result\": 0.3512743527213667, \"model_param\": \"l2 / lbfgs / 64.0\", \"Score\": \"F1\", \"type\": \"test\", \"C\": 64.0, \"penalty\": \"l2\", \"solver\": \"lbfgs\"}, {\"Result\": 0.2524063769138062, \"model_param\": \"l2 / lbfgs / 0.01\", \"Score\": \"F1\", \"type\": \"test\", \"C\": 0.01, \"penalty\": \"l2\", \"solver\": \"lbfgs\"}, {\"Result\": 0.3664736850961042, \"model_param\": \"l2 / lbfgs / 0.1\", \"Score\": \"F1\", \"type\": \"test\", \"C\": 0.1, \"penalty\": \"l2\", \"solver\": \"lbfgs\"}, {\"Result\": 0.3943335830639413, \"model_param\": \"l2 / lbfgs / 1\", \"Score\": \"F1\", \"type\": \"test\", \"C\": 1.0, \"penalty\": \"l2\", \"solver\": \"lbfgs\"}, {\"Result\": 0.3708890033297917, \"model_param\": \"l2 / lbfgs / 10\", \"Score\": \"F1\", \"type\": \"test\", \"C\": 10.0, \"penalty\": \"l2\", \"solver\": \"lbfgs\"}]}}, {\"mode\": \"vega-lite\"});\n",
       "</script>"
      ],
      "text/plain": [
       "alt.Chart(...)"
      ]
     },
     "execution_count": 8,
     "metadata": {},
     "output_type": "execute_result"
    }
   ],
   "source": [
    "### look at the raw \"messy\" data\n",
    "df = csv_data.copy()\n",
    "df = df[df.Score=='F1']\n",
    "\n",
    "chart = alt.Chart(df).mark_line().encode(\n",
    "    x = 'model_param:O',\n",
    "    y = 'Result:Q',\n",
    "    color = 'type:N',\n",
    "    tooltip = 'Result',\n",
    "\n",
    ").properties(\n",
    "    title = 'F1 Score'\n",
    ")\n",
    "chart"
   ]
  },
  {
   "cell_type": "code",
   "execution_count": 9,
   "metadata": {
    "colab": {
     "base_uri": "https://localhost:8080/",
     "height": 471
    },
    "executionInfo": {
     "elapsed": 299,
     "status": "ok",
     "timestamp": 1649845926544,
     "user": {
      "displayName": "Erik Lang",
      "userId": "07461174803850440376"
     },
     "user_tz": 240
    },
    "id": "OrAncXWxHXvZ",
    "outputId": "6582bf72-a329-43fd-dc5b-a17f5a76a30e"
   },
   "outputs": [
    {
     "data": {
      "text/html": [
       "\n",
       "<div id=\"altair-viz-19afa2cb7e324c5487ea62d30ff6a5eb\"></div>\n",
       "<script type=\"text/javascript\">\n",
       "  var VEGA_DEBUG = (typeof VEGA_DEBUG == \"undefined\") ? {} : VEGA_DEBUG;\n",
       "  (function(spec, embedOpt){\n",
       "    let outputDiv = document.currentScript.previousElementSibling;\n",
       "    if (outputDiv.id !== \"altair-viz-19afa2cb7e324c5487ea62d30ff6a5eb\") {\n",
       "      outputDiv = document.getElementById(\"altair-viz-19afa2cb7e324c5487ea62d30ff6a5eb\");\n",
       "    }\n",
       "    const paths = {\n",
       "      \"vega\": \"https://cdn.jsdelivr.net/npm//vega@5?noext\",\n",
       "      \"vega-lib\": \"https://cdn.jsdelivr.net/npm//vega-lib?noext\",\n",
       "      \"vega-lite\": \"https://cdn.jsdelivr.net/npm//vega-lite@4.17.0?noext\",\n",
       "      \"vega-embed\": \"https://cdn.jsdelivr.net/npm//vega-embed@6?noext\",\n",
       "    };\n",
       "\n",
       "    function maybeLoadScript(lib, version) {\n",
       "      var key = `${lib.replace(\"-\", \"\")}_version`;\n",
       "      return (VEGA_DEBUG[key] == version) ?\n",
       "        Promise.resolve(paths[lib]) :\n",
       "        new Promise(function(resolve, reject) {\n",
       "          var s = document.createElement('script');\n",
       "          document.getElementsByTagName(\"head\")[0].appendChild(s);\n",
       "          s.async = true;\n",
       "          s.onload = () => {\n",
       "            VEGA_DEBUG[key] = version;\n",
       "            return resolve(paths[lib]);\n",
       "          };\n",
       "          s.onerror = () => reject(`Error loading script: ${paths[lib]}`);\n",
       "          s.src = paths[lib];\n",
       "        });\n",
       "    }\n",
       "\n",
       "    function showError(err) {\n",
       "      outputDiv.innerHTML = `<div class=\"error\" style=\"color:red;\">${err}</div>`;\n",
       "      throw err;\n",
       "    }\n",
       "\n",
       "    function displayChart(vegaEmbed) {\n",
       "      vegaEmbed(outputDiv, spec, embedOpt)\n",
       "        .catch(err => showError(`Javascript Error: ${err.message}<br>This usually means there's a typo in your chart specification. See the javascript console for the full traceback.`));\n",
       "    }\n",
       "\n",
       "    if(typeof define === \"function\" && define.amd) {\n",
       "      requirejs.config({paths});\n",
       "      require([\"vega-embed\"], displayChart, err => showError(`Error loading script: ${err.message}`));\n",
       "    } else {\n",
       "      maybeLoadScript(\"vega\", \"5\")\n",
       "        .then(() => maybeLoadScript(\"vega-lite\", \"4.17.0\"))\n",
       "        .then(() => maybeLoadScript(\"vega-embed\", \"6\"))\n",
       "        .catch(showError)\n",
       "        .then(() => displayChart(vegaEmbed));\n",
       "    }\n",
       "  })({\"config\": {\"view\": {\"continuousWidth\": 400, \"continuousHeight\": 300}}, \"data\": {\"name\": \"data-864f0a4550b040142dbd4d892a1b3e10\"}, \"mark\": \"line\", \"encoding\": {\"color\": {\"field\": \"type\", \"type\": \"nominal\"}, \"tooltip\": {\"field\": \"Result\", \"type\": \"quantitative\"}, \"x\": {\"field\": \"model_param\", \"type\": \"ordinal\"}, \"y\": {\"field\": \"Result\", \"type\": \"quantitative\"}}, \"title\": \"Accuracy\", \"$schema\": \"https://vega.github.io/schema/vega-lite/v4.17.0.json\", \"datasets\": {\"data-864f0a4550b040142dbd4d892a1b3e10\": [{\"Result\": 0.8497196261682243, \"model_param\": \"l2 / liblinear / 0.03125\", \"Score\": \"Accuracy\", \"type\": \"train\", \"C\": 0.03125, \"penalty\": \"l2\", \"solver\": \"liblinear\"}, {\"Result\": 0.8481308411214954, \"model_param\": \"l2 / lbfgs / 0.03125\", \"Score\": \"Accuracy\", \"type\": \"train\", \"C\": 0.03125, \"penalty\": \"l2\", \"solver\": \"lbfgs\"}, {\"Result\": 0.8607476635514019, \"model_param\": \"l2 / liblinear / 0.0625\", \"Score\": \"Accuracy\", \"type\": \"train\", \"C\": 0.0625, \"penalty\": \"l2\", \"solver\": \"liblinear\"}, {\"Result\": 0.8614018691588786, \"model_param\": \"l2 / lbfgs / 0.0625\", \"Score\": \"Accuracy\", \"type\": \"train\", \"C\": 0.0625, \"penalty\": \"l2\", \"solver\": \"lbfgs\"}, {\"Result\": 0.8244859813084112, \"model_param\": \"l1 / liblinear / 0.125\", \"Score\": \"Accuracy\", \"type\": \"train\", \"C\": 0.125, \"penalty\": \"l1\", \"solver\": \"liblinear\"}, {\"Result\": 0.8742990654205608, \"model_param\": \"l2 / liblinear / 0.125\", \"Score\": \"Accuracy\", \"type\": \"train\", \"C\": 0.125, \"penalty\": \"l2\", \"solver\": \"liblinear\"}, {\"Result\": 0.8753271028037382, \"model_param\": \"l2 / lbfgs / 0.125\", \"Score\": \"Accuracy\", \"type\": \"train\", \"C\": 0.125, \"penalty\": \"l2\", \"solver\": \"lbfgs\"}, {\"Result\": 0.843177570093458, \"model_param\": \"l1 / liblinear / 0.25\", \"Score\": \"Accuracy\", \"type\": \"train\", \"C\": 0.25, \"penalty\": \"l1\", \"solver\": \"liblinear\"}, {\"Result\": 0.8885046728971963, \"model_param\": \"l2 / liblinear / 0.25\", \"Score\": \"Accuracy\", \"type\": \"train\", \"C\": 0.25, \"penalty\": \"l2\", \"solver\": \"liblinear\"}, {\"Result\": 0.8889719626168224, \"model_param\": \"l2 / lbfgs / 0.25\", \"Score\": \"Accuracy\", \"type\": \"train\", \"C\": 0.25, \"penalty\": \"l2\", \"solver\": \"lbfgs\"}, {\"Result\": 0.8648598130841121, \"model_param\": \"l1 / liblinear / 0.5\", \"Score\": \"Accuracy\", \"type\": \"train\", \"C\": 0.5, \"penalty\": \"l1\", \"solver\": \"liblinear\"}, {\"Result\": 0.9000934579439251, \"model_param\": \"l2 / liblinear / 0.5\", \"Score\": \"Accuracy\", \"type\": \"train\", \"C\": 0.5, \"penalty\": \"l2\", \"solver\": \"liblinear\"}, {\"Result\": 0.9002803738317757, \"model_param\": \"l2 / lbfgs / 0.5\", \"Score\": \"Accuracy\", \"type\": \"train\", \"C\": 0.5, \"penalty\": \"l2\", \"solver\": \"lbfgs\"}, {\"Result\": 0.8914953271028037, \"model_param\": \"l1 / liblinear / 1.0\", \"Score\": \"Accuracy\", \"type\": \"train\", \"C\": 1.0, \"penalty\": \"l1\", \"solver\": \"liblinear\"}, {\"Result\": 0.913551401869159, \"model_param\": \"l2 / liblinear / 1.0\", \"Score\": \"Accuracy\", \"type\": \"train\", \"C\": 1.0, \"penalty\": \"l2\", \"solver\": \"liblinear\"}, {\"Result\": 0.913177570093458, \"model_param\": \"l2 / lbfgs / 1.0\", \"Score\": \"Accuracy\", \"type\": \"train\", \"C\": 1.0, \"penalty\": \"l2\", \"solver\": \"lbfgs\"}, {\"Result\": 0.9189719626168223, \"model_param\": \"l1 / liblinear / 2.0\", \"Score\": \"Accuracy\", \"type\": \"train\", \"C\": 2.0, \"penalty\": \"l1\", \"solver\": \"liblinear\"}, {\"Result\": 0.9254205607476635, \"model_param\": \"l2 / liblinear / 2.0\", \"Score\": \"Accuracy\", \"type\": \"train\", \"C\": 2.0, \"penalty\": \"l2\", \"solver\": \"liblinear\"}, {\"Result\": 0.9261682242990656, \"model_param\": \"l2 / lbfgs / 2.0\", \"Score\": \"Accuracy\", \"type\": \"train\", \"C\": 2.0, \"penalty\": \"l2\", \"solver\": \"lbfgs\"}, {\"Result\": 0.9400934579439252, \"model_param\": \"l1 / liblinear / 4.0\", \"Score\": \"Accuracy\", \"type\": \"train\", \"C\": 4.0, \"penalty\": \"l1\", \"solver\": \"liblinear\"}, {\"Result\": 0.9361682242990657, \"model_param\": \"l2 / liblinear / 4.0\", \"Score\": \"Accuracy\", \"type\": \"train\", \"C\": 4.0, \"penalty\": \"l2\", \"solver\": \"liblinear\"}, {\"Result\": 0.9359813084112152, \"model_param\": \"l2 / lbfgs / 4.0\", \"Score\": \"Accuracy\", \"type\": \"train\", \"C\": 4.0, \"penalty\": \"l2\", \"solver\": \"lbfgs\"}, {\"Result\": 0.9647663551401868, \"model_param\": \"l1 / liblinear / 8.0\", \"Score\": \"Accuracy\", \"type\": \"train\", \"C\": 8.0, \"penalty\": \"l1\", \"solver\": \"liblinear\"}, {\"Result\": 0.9472897196261684, \"model_param\": \"l2 / liblinear / 8.0\", \"Score\": \"Accuracy\", \"type\": \"train\", \"C\": 8.0, \"penalty\": \"l2\", \"solver\": \"liblinear\"}, {\"Result\": 0.9471962616822428, \"model_param\": \"l2 / lbfgs / 8.0\", \"Score\": \"Accuracy\", \"type\": \"train\", \"C\": 8.0, \"penalty\": \"l2\", \"solver\": \"lbfgs\"}, {\"Result\": 0.9893457943925236, \"model_param\": \"l1 / liblinear / 16.0\", \"Score\": \"Accuracy\", \"type\": \"train\", \"C\": 16.0, \"penalty\": \"l1\", \"solver\": \"liblinear\"}, {\"Result\": 0.9594392523364488, \"model_param\": \"l2 / liblinear / 16.0\", \"Score\": \"Accuracy\", \"type\": \"train\", \"C\": 16.0, \"penalty\": \"l2\", \"solver\": \"liblinear\"}, {\"Result\": 0.9594392523364488, \"model_param\": \"l2 / lbfgs / 16.0\", \"Score\": \"Accuracy\", \"type\": \"train\", \"C\": 16.0, \"penalty\": \"l2\", \"solver\": \"lbfgs\"}, {\"Result\": 0.9722429906542056, \"model_param\": \"l2 / liblinear / 32.0\", \"Score\": \"Accuracy\", \"type\": \"train\", \"C\": 32.0, \"penalty\": \"l2\", \"solver\": \"liblinear\"}, {\"Result\": 0.9721495327102804, \"model_param\": \"l2 / lbfgs / 32.0\", \"Score\": \"Accuracy\", \"type\": \"train\", \"C\": 32.0, \"penalty\": \"l2\", \"solver\": \"lbfgs\"}, {\"Result\": 0.9842990654205608, \"model_param\": \"l2 / liblinear / 64.0\", \"Score\": \"Accuracy\", \"type\": \"train\", \"C\": 64.0, \"penalty\": \"l2\", \"solver\": \"liblinear\"}, {\"Result\": 0.9842056074766354, \"model_param\": \"l2 / lbfgs / 64.0\", \"Score\": \"Accuracy\", \"type\": \"train\", \"C\": 64.0, \"penalty\": \"l2\", \"solver\": \"lbfgs\"}, {\"Result\": 0.8258878504672896, \"model_param\": \"l2 / lbfgs / 0.01\", \"Score\": \"Accuracy\", \"type\": \"train\", \"C\": 0.01, \"penalty\": \"l2\", \"solver\": \"lbfgs\"}, {\"Result\": 0.8714018691588784, \"model_param\": \"l2 / lbfgs / 0.1\", \"Score\": \"Accuracy\", \"type\": \"train\", \"C\": 0.1, \"penalty\": \"l2\", \"solver\": \"lbfgs\"}, {\"Result\": 0.913177570093458, \"model_param\": \"l2 / lbfgs / 1\", \"Score\": \"Accuracy\", \"type\": \"train\", \"C\": 1.0, \"penalty\": \"l2\", \"solver\": \"lbfgs\"}, {\"Result\": 0.9511214953271028, \"model_param\": \"l2 / lbfgs / 10\", \"Score\": \"Accuracy\", \"type\": \"train\", \"C\": 10.0, \"penalty\": \"l2\", \"solver\": \"lbfgs\"}, {\"Result\": 0.8022429906542057, \"model_param\": \"l2 / liblinear / 0.03125\", \"Score\": \"Accuracy\", \"type\": \"test\", \"C\": 0.03125, \"penalty\": \"l2\", \"solver\": \"liblinear\"}, {\"Result\": 0.8029906542056076, \"model_param\": \"l2 / lbfgs / 0.03125\", \"Score\": \"Accuracy\", \"type\": \"test\", \"C\": 0.03125, \"penalty\": \"l2\", \"solver\": \"lbfgs\"}, {\"Result\": 0.7966355140186916, \"model_param\": \"l2 / liblinear / 0.0625\", \"Score\": \"Accuracy\", \"type\": \"test\", \"C\": 0.0625, \"penalty\": \"l2\", \"solver\": \"liblinear\"}, {\"Result\": 0.8011214953271029, \"model_param\": \"l2 / lbfgs / 0.0625\", \"Score\": \"Accuracy\", \"type\": \"test\", \"C\": 0.0625, \"penalty\": \"l2\", \"solver\": \"lbfgs\"}, {\"Result\": 0.805233644859813, \"model_param\": \"l1 / liblinear / 0.125\", \"Score\": \"Accuracy\", \"type\": \"test\", \"C\": 0.125, \"penalty\": \"l1\", \"solver\": \"liblinear\"}, {\"Result\": 0.7910280373831775, \"model_param\": \"l2 / liblinear / 0.125\", \"Score\": \"Accuracy\", \"type\": \"test\", \"C\": 0.125, \"penalty\": \"l2\", \"solver\": \"liblinear\"}, {\"Result\": 0.7936448598130841, \"model_param\": \"l2 / lbfgs / 0.125\", \"Score\": \"Accuracy\", \"type\": \"test\", \"C\": 0.125, \"penalty\": \"l2\", \"solver\": \"lbfgs\"}, {\"Result\": 0.7996261682242991, \"model_param\": \"l1 / liblinear / 0.25\", \"Score\": \"Accuracy\", \"type\": \"test\", \"C\": 0.25, \"penalty\": \"l1\", \"solver\": \"liblinear\"}, {\"Result\": 0.783177570093458, \"model_param\": \"l2 / liblinear / 0.25\", \"Score\": \"Accuracy\", \"type\": \"test\", \"C\": 0.25, \"penalty\": \"l2\", \"solver\": \"liblinear\"}, {\"Result\": 0.7857943925233644, \"model_param\": \"l2 / lbfgs / 0.25\", \"Score\": \"Accuracy\", \"type\": \"test\", \"C\": 0.25, \"penalty\": \"l2\", \"solver\": \"lbfgs\"}, {\"Result\": 0.7906542056074766, \"model_param\": \"l1 / liblinear / 0.5\", \"Score\": \"Accuracy\", \"type\": \"test\", \"C\": 0.5, \"penalty\": \"l1\", \"solver\": \"liblinear\"}, {\"Result\": 0.7790654205607478, \"model_param\": \"l2 / liblinear / 0.5\", \"Score\": \"Accuracy\", \"type\": \"test\", \"C\": 0.5, \"penalty\": \"l2\", \"solver\": \"liblinear\"}, {\"Result\": 0.7798130841121497, \"model_param\": \"l2 / lbfgs / 0.5\", \"Score\": \"Accuracy\", \"type\": \"test\", \"C\": 0.5, \"penalty\": \"l2\", \"solver\": \"lbfgs\"}, {\"Result\": 0.777570093457944, \"model_param\": \"l1 / liblinear / 1.0\", \"Score\": \"Accuracy\", \"type\": \"test\", \"C\": 1.0, \"penalty\": \"l1\", \"solver\": \"liblinear\"}, {\"Result\": 0.771588785046729, \"model_param\": \"l2 / liblinear / 1.0\", \"Score\": \"Accuracy\", \"type\": \"test\", \"C\": 1.0, \"penalty\": \"l2\", \"solver\": \"liblinear\"}, {\"Result\": 0.7712149532710281, \"model_param\": \"l2 / lbfgs / 1.0\", \"Score\": \"Accuracy\", \"type\": \"test\", \"C\": 1.0, \"penalty\": \"l2\", \"solver\": \"lbfgs\"}, {\"Result\": 0.7570093457943925, \"model_param\": \"l1 / liblinear / 2.0\", \"Score\": \"Accuracy\", \"type\": \"test\", \"C\": 2.0, \"penalty\": \"l1\", \"solver\": \"liblinear\"}, {\"Result\": 0.7585046728971963, \"model_param\": \"l2 / liblinear / 2.0\", \"Score\": \"Accuracy\", \"type\": \"test\", \"C\": 2.0, \"penalty\": \"l2\", \"solver\": \"liblinear\"}, {\"Result\": 0.7588785046728972, \"model_param\": \"l2 / lbfgs / 2.0\", \"Score\": \"Accuracy\", \"type\": \"test\", \"C\": 2.0, \"penalty\": \"l2\", \"solver\": \"lbfgs\"}, {\"Result\": 0.7405607476635513, \"model_param\": \"l1 / liblinear / 4.0\", \"Score\": \"Accuracy\", \"type\": \"test\", \"C\": 4.0, \"penalty\": \"l1\", \"solver\": \"liblinear\"}, {\"Result\": 0.7525233644859812, \"model_param\": \"l2 / liblinear / 4.0\", \"Score\": \"Accuracy\", \"type\": \"test\", \"C\": 4.0, \"penalty\": \"l2\", \"solver\": \"liblinear\"}, {\"Result\": 0.7517757009345793, \"model_param\": \"l2 / lbfgs / 4.0\", \"Score\": \"Accuracy\", \"type\": \"test\", \"C\": 4.0, \"penalty\": \"l2\", \"solver\": \"lbfgs\"}, {\"Result\": 0.7203738317757009, \"model_param\": \"l1 / liblinear / 8.0\", \"Score\": \"Accuracy\", \"type\": \"test\", \"C\": 8.0, \"penalty\": \"l1\", \"solver\": \"liblinear\"}, {\"Result\": 0.7379439252336448, \"model_param\": \"l2 / liblinear / 8.0\", \"Score\": \"Accuracy\", \"type\": \"test\", \"C\": 8.0, \"penalty\": \"l2\", \"solver\": \"liblinear\"}, {\"Result\": 0.7386915887850467, \"model_param\": \"l2 / lbfgs / 8.0\", \"Score\": \"Accuracy\", \"type\": \"test\", \"C\": 8.0, \"penalty\": \"l2\", \"solver\": \"lbfgs\"}, {\"Result\": 0.7065420560747664, \"model_param\": \"l1 / liblinear / 16.0\", \"Score\": \"Accuracy\", \"type\": \"test\", \"C\": 16.0, \"penalty\": \"l1\", \"solver\": \"liblinear\"}, {\"Result\": 0.7222429906542056, \"model_param\": \"l2 / liblinear / 16.0\", \"Score\": \"Accuracy\", \"type\": \"test\", \"C\": 16.0, \"penalty\": \"l2\", \"solver\": \"liblinear\"}, {\"Result\": 0.7229906542056075, \"model_param\": \"l2 / lbfgs / 16.0\", \"Score\": \"Accuracy\", \"type\": \"test\", \"C\": 16.0, \"penalty\": \"l2\", \"solver\": \"lbfgs\"}, {\"Result\": 0.7166355140186916, \"model_param\": \"l2 / liblinear / 32.0\", \"Score\": \"Accuracy\", \"type\": \"test\", \"C\": 32.0, \"penalty\": \"l2\", \"solver\": \"liblinear\"}, {\"Result\": 0.7170093457943926, \"model_param\": \"l2 / lbfgs / 32.0\", \"Score\": \"Accuracy\", \"type\": \"test\", \"C\": 32.0, \"penalty\": \"l2\", \"solver\": \"lbfgs\"}, {\"Result\": 0.702803738317757, \"model_param\": \"l2 / liblinear / 64.0\", \"Score\": \"Accuracy\", \"type\": \"test\", \"C\": 64.0, \"penalty\": \"l2\", \"solver\": \"liblinear\"}, {\"Result\": 0.7035514018691589, \"model_param\": \"l2 / lbfgs / 64.0\", \"Score\": \"Accuracy\", \"type\": \"test\", \"C\": 64.0, \"penalty\": \"l2\", \"solver\": \"lbfgs\"}, {\"Result\": 0.8022429906542057, \"model_param\": \"l2 / lbfgs / 0.01\", \"Score\": \"Accuracy\", \"type\": \"test\", \"C\": 0.01, \"penalty\": \"l2\", \"solver\": \"lbfgs\"}, {\"Result\": 0.794018691588785, \"model_param\": \"l2 / lbfgs / 0.1\", \"Score\": \"Accuracy\", \"type\": \"test\", \"C\": 0.1, \"penalty\": \"l2\", \"solver\": \"lbfgs\"}, {\"Result\": 0.7712149532710281, \"model_param\": \"l2 / lbfgs / 1\", \"Score\": \"Accuracy\", \"type\": \"test\", \"C\": 1.0, \"penalty\": \"l2\", \"solver\": \"lbfgs\"}, {\"Result\": 0.7323364485981309, \"model_param\": \"l2 / lbfgs / 10\", \"Score\": \"Accuracy\", \"type\": \"test\", \"C\": 10.0, \"penalty\": \"l2\", \"solver\": \"lbfgs\"}]}}, {\"mode\": \"vega-lite\"});\n",
       "</script>"
      ],
      "text/plain": [
       "alt.Chart(...)"
      ]
     },
     "execution_count": 9,
     "metadata": {},
     "output_type": "execute_result"
    }
   ],
   "source": [
    "### look at the raw \"messy\" data\n",
    "df = csv_data.copy()\n",
    "df = df[df.Score=='Accuracy']\n",
    "\n",
    "chart = alt.Chart(df).mark_line().encode(\n",
    "    x = 'model_param:O',\n",
    "    y = 'Result:Q',\n",
    "    color = 'type:N',\n",
    "    tooltip = 'Result',\n",
    "\n",
    ").properties(\n",
    "    title = 'Accuracy'\n",
    ")\n",
    "chart"
   ]
  },
  {
   "cell_type": "markdown",
   "metadata": {
    "id": "LqN5jkTtvBjD"
   },
   "source": [
    "# Look at some median data for each parameter \"all else equal\" to get a sense of trends"
   ]
  },
  {
   "cell_type": "code",
   "execution_count": 10,
   "metadata": {
    "colab": {
     "base_uri": "https://localhost:8080/",
     "height": 414
    },
    "executionInfo": {
     "elapsed": 315,
     "status": "ok",
     "timestamp": 1650353553235,
     "user": {
      "displayName": "Erik Lang",
      "userId": "07461174803850440376"
     },
     "user_tz": 240
    },
    "id": "SxxGsNGUGbH3",
    "outputId": "91d658bc-d037-4026-f235-99317e59fa9f"
   },
   "outputs": [
    {
     "data": {
      "text/html": [
       "\n",
       "<div id=\"altair-viz-350217a23bd94633a62e4bffd1941751\"></div>\n",
       "<script type=\"text/javascript\">\n",
       "  var VEGA_DEBUG = (typeof VEGA_DEBUG == \"undefined\") ? {} : VEGA_DEBUG;\n",
       "  (function(spec, embedOpt){\n",
       "    let outputDiv = document.currentScript.previousElementSibling;\n",
       "    if (outputDiv.id !== \"altair-viz-350217a23bd94633a62e4bffd1941751\") {\n",
       "      outputDiv = document.getElementById(\"altair-viz-350217a23bd94633a62e4bffd1941751\");\n",
       "    }\n",
       "    const paths = {\n",
       "      \"vega\": \"https://cdn.jsdelivr.net/npm//vega@5?noext\",\n",
       "      \"vega-lib\": \"https://cdn.jsdelivr.net/npm//vega-lib?noext\",\n",
       "      \"vega-lite\": \"https://cdn.jsdelivr.net/npm//vega-lite@4.17.0?noext\",\n",
       "      \"vega-embed\": \"https://cdn.jsdelivr.net/npm//vega-embed@6?noext\",\n",
       "    };\n",
       "\n",
       "    function maybeLoadScript(lib, version) {\n",
       "      var key = `${lib.replace(\"-\", \"\")}_version`;\n",
       "      return (VEGA_DEBUG[key] == version) ?\n",
       "        Promise.resolve(paths[lib]) :\n",
       "        new Promise(function(resolve, reject) {\n",
       "          var s = document.createElement('script');\n",
       "          document.getElementsByTagName(\"head\")[0].appendChild(s);\n",
       "          s.async = true;\n",
       "          s.onload = () => {\n",
       "            VEGA_DEBUG[key] = version;\n",
       "            return resolve(paths[lib]);\n",
       "          };\n",
       "          s.onerror = () => reject(`Error loading script: ${paths[lib]}`);\n",
       "          s.src = paths[lib];\n",
       "        });\n",
       "    }\n",
       "\n",
       "    function showError(err) {\n",
       "      outputDiv.innerHTML = `<div class=\"error\" style=\"color:red;\">${err}</div>`;\n",
       "      throw err;\n",
       "    }\n",
       "\n",
       "    function displayChart(vegaEmbed) {\n",
       "      vegaEmbed(outputDiv, spec, embedOpt)\n",
       "        .catch(err => showError(`Javascript Error: ${err.message}<br>This usually means there's a typo in your chart specification. See the javascript console for the full traceback.`));\n",
       "    }\n",
       "\n",
       "    if(typeof define === \"function\" && define.amd) {\n",
       "      requirejs.config({paths});\n",
       "      require([\"vega-embed\"], displayChart, err => showError(`Error loading script: ${err.message}`));\n",
       "    } else {\n",
       "      maybeLoadScript(\"vega\", \"5\")\n",
       "        .then(() => maybeLoadScript(\"vega-lite\", \"4.17.0\"))\n",
       "        .then(() => maybeLoadScript(\"vega-embed\", \"6\"))\n",
       "        .catch(showError)\n",
       "        .then(() => displayChart(vegaEmbed));\n",
       "    }\n",
       "  })({\"config\": {\"view\": {\"continuousWidth\": 400, \"continuousHeight\": 300}}, \"hconcat\": [{\"data\": {\"name\": \"data-9639e8166103f5c1f4f5d03410d562a6\"}, \"mark\": \"line\", \"encoding\": {\"color\": {\"field\": \"type\", \"type\": \"nominal\"}, \"tooltip\": {\"field\": \"C\", \"type\": \"quantitative\"}, \"x\": {\"field\": \"C\", \"type\": \"ordinal\"}, \"y\": {\"field\": \"Result\", \"type\": \"quantitative\"}}, \"title\": \"F1 Score\"}, {\"data\": {\"name\": \"data-e27559d70b6c53036e5361521a1069e9\"}, \"mark\": \"line\", \"encoding\": {\"color\": {\"field\": \"type\", \"type\": \"nominal\"}, \"tooltip\": {\"field\": \"penalty\", \"type\": \"quantitative\"}, \"x\": {\"field\": \"penalty\", \"type\": \"ordinal\"}, \"y\": {\"field\": \"Result\", \"type\": \"quantitative\"}}, \"title\": \"F1 Score\"}, {\"data\": {\"name\": \"data-848b9b0f1775755bb6fd7f6bdc6e57a1\"}, \"mark\": \"line\", \"encoding\": {\"color\": {\"field\": \"type\", \"type\": \"nominal\"}, \"tooltip\": {\"field\": \"solver\", \"type\": \"quantitative\"}, \"x\": {\"field\": \"solver\", \"type\": \"ordinal\"}, \"y\": {\"field\": \"Result\", \"type\": \"quantitative\"}}, \"title\": \"F1 Score\"}], \"$schema\": \"https://vega.github.io/schema/vega-lite/v4.17.0.json\", \"datasets\": {\"data-9639e8166103f5c1f4f5d03410d562a6\": [{\"type\": \"test\", \"C\": 0.01, \"Result\": 0.2524063769138062}, {\"type\": \"test\", \"C\": 0.03125, \"Result\": 0.3338034762229749}, {\"type\": \"test\", \"C\": 0.0625, \"Result\": 0.3652422972333499}, {\"type\": \"test\", \"C\": 0.1, \"Result\": 0.3664736850961042}, {\"type\": \"test\", \"C\": 0.125, \"Result\": 0.377581011547144}, {\"type\": \"test\", \"C\": 0.25, \"Result\": 0.3789941013467445}, {\"type\": \"test\", \"C\": 0.5, \"Result\": 0.3839050585725549}, {\"type\": \"test\", \"C\": 1.0, \"Result\": 0.3943335830639413}, {\"type\": \"test\", \"C\": 2.0, \"Result\": 0.3887101178488715}, {\"type\": \"test\", \"C\": 4.0, \"Result\": 0.386791721519588}, {\"type\": \"test\", \"C\": 8.0, \"Result\": 0.3769533652401329}, {\"type\": \"test\", \"C\": 10.0, \"Result\": 0.3708890033297917}, {\"type\": \"test\", \"C\": 16.0, \"Result\": 0.3622322129846555}, {\"type\": \"test\", \"C\": 32.0, \"Result\": 0.3676027588066995}, {\"type\": \"test\", \"C\": 64.0, \"Result\": 0.3503817446321059}, {\"type\": \"train\", \"C\": 0.01, \"Result\": 0.3541310240272885}, {\"type\": \"train\", \"C\": 0.03125, \"Result\": 0.5117841132586407}, {\"type\": \"train\", \"C\": 0.0625, \"Result\": 0.571815602451068}, {\"type\": \"train\", \"C\": 0.1, \"Result\": 0.6140835912909439}, {\"type\": \"train\", \"C\": 0.125, \"Result\": 0.6304577251253108}, {\"type\": \"train\", \"C\": 0.25, \"Result\": 0.6830248989135719}, {\"type\": \"train\", \"C\": 0.5, \"Result\": 0.7228466984607677}, {\"type\": \"train\", \"C\": 1.0, \"Result\": 0.7642046502334577}, {\"type\": \"train\", \"C\": 2.0, \"Result\": 0.8014480441209146}, {\"type\": \"train\", \"C\": 4.0, \"Result\": 0.8322515158615745}, {\"type\": \"train\", \"C\": 8.0, \"Result\": 0.863595078319969}, {\"type\": \"train\", \"C\": 10.0, \"Result\": 0.8741452012411323}, {\"type\": \"train\", \"C\": 16.0, \"Result\": 0.8968138355026938}, {\"type\": \"train\", \"C\": 32.0, \"Result\": 0.9304434949867355}, {\"type\": \"train\", \"C\": 64.0, \"Result\": 0.9608893892162}], \"data-e27559d70b6c53036e5361521a1069e9\": [{\"type\": \"test\", \"penalty\": \"l1\", \"Result\": 0.3674636535851402}, {\"type\": \"test\", \"penalty\": \"l2\", \"Result\": 0.3772671883936385}, {\"type\": \"train\", \"penalty\": \"l1\", \"Result\": 0.7377444793231762}, {\"type\": \"train\", \"penalty\": \"l2\", \"Result\": 0.7646547970349251}], \"data-848b9b0f1775755bb6fd7f6bdc6e57a1\": [{\"type\": \"test\", \"solver\": \"lbfgs\", \"Result\": 0.3742569589107607}, {\"type\": \"test\", \"solver\": \"liblinear\", \"Result\": 0.36923000914915005}, {\"type\": \"train\", \"solver\": \"lbfgs\", \"Result\": 0.7642046502334577}, {\"type\": \"train\", \"solver\": \"liblinear\", \"Result\": 0.7736080976296704}]}}, {\"mode\": \"vega-lite\"});\n",
       "</script>"
      ],
      "text/plain": [
       "alt.HConcatChart(...)"
      ]
     },
     "execution_count": 10,
     "metadata": {},
     "output_type": "execute_result"
    }
   ],
   "source": [
    "df = csv_data.copy()\n",
    "df = df[df.Score=='F1']\n",
    "#print(df.columns)\n",
    "df = df.groupby(['type','C',])['Result'].median().reset_index()\n",
    "#display(df)\n",
    "\n",
    "chart1 = alt.Chart(df).mark_line().encode(\n",
    "    x = 'C:O',\n",
    "    y = 'Result:Q',\n",
    "    color = 'type:N',\n",
    "    tooltip = 'C:Q',\n",
    "\n",
    ").properties(\n",
    "    title = 'F1 Score'\n",
    ")\n",
    "\n",
    "\n",
    "df = csv_data.copy()\n",
    "df = df[df.Score=='F1']\n",
    "#print(df.columns)\n",
    "df = df.groupby(['type','penalty',])['Result'].median().reset_index()\n",
    "#display(df)\n",
    "\n",
    "chart2 = alt.Chart(df).mark_line().encode(\n",
    "    x = 'penalty:O',\n",
    "    y = 'Result:Q',\n",
    "    color = 'type:N',\n",
    "    tooltip = 'penalty:Q',\n",
    "\n",
    ").properties(\n",
    "    title = 'F1 Score'\n",
    ")\n",
    "\n",
    "df = csv_data.copy()\n",
    "df = df[df.Score=='F1']\n",
    "#print(df.columns)\n",
    "df = df.groupby(['type','solver',])['Result'].median().reset_index()\n",
    "#display(df)\n",
    "\n",
    "chart3 = alt.Chart(df).mark_line().encode(\n",
    "    x = 'solver:O',\n",
    "    y = 'Result:Q',\n",
    "    color = 'type:N',\n",
    "    tooltip = 'solver:Q',\n",
    "\n",
    ").properties(\n",
    "    title = 'F1 Score'\n",
    ")\n",
    "\n",
    "chart1 | chart2 | chart3"
   ]
  },
  {
   "cell_type": "code",
   "execution_count": 12,
   "metadata": {
    "colab": {
     "base_uri": "https://localhost:8080/",
     "height": 414
    },
    "executionInfo": {
     "elapsed": 475,
     "status": "ok",
     "timestamp": 1650353555329,
     "user": {
      "displayName": "Erik Lang",
      "userId": "07461174803850440376"
     },
     "user_tz": 240
    },
    "id": "NarQk5YPXeQt",
    "outputId": "656d9f6a-1155-416c-9b7f-4d27daa764f9"
   },
   "outputs": [
    {
     "data": {
      "text/html": [
       "\n",
       "<div id=\"altair-viz-2a7e470b679c4920bb6929fb959b8a94\"></div>\n",
       "<script type=\"text/javascript\">\n",
       "  var VEGA_DEBUG = (typeof VEGA_DEBUG == \"undefined\") ? {} : VEGA_DEBUG;\n",
       "  (function(spec, embedOpt){\n",
       "    let outputDiv = document.currentScript.previousElementSibling;\n",
       "    if (outputDiv.id !== \"altair-viz-2a7e470b679c4920bb6929fb959b8a94\") {\n",
       "      outputDiv = document.getElementById(\"altair-viz-2a7e470b679c4920bb6929fb959b8a94\");\n",
       "    }\n",
       "    const paths = {\n",
       "      \"vega\": \"https://cdn.jsdelivr.net/npm//vega@5?noext\",\n",
       "      \"vega-lib\": \"https://cdn.jsdelivr.net/npm//vega-lib?noext\",\n",
       "      \"vega-lite\": \"https://cdn.jsdelivr.net/npm//vega-lite@4.17.0?noext\",\n",
       "      \"vega-embed\": \"https://cdn.jsdelivr.net/npm//vega-embed@6?noext\",\n",
       "    };\n",
       "\n",
       "    function maybeLoadScript(lib, version) {\n",
       "      var key = `${lib.replace(\"-\", \"\")}_version`;\n",
       "      return (VEGA_DEBUG[key] == version) ?\n",
       "        Promise.resolve(paths[lib]) :\n",
       "        new Promise(function(resolve, reject) {\n",
       "          var s = document.createElement('script');\n",
       "          document.getElementsByTagName(\"head\")[0].appendChild(s);\n",
       "          s.async = true;\n",
       "          s.onload = () => {\n",
       "            VEGA_DEBUG[key] = version;\n",
       "            return resolve(paths[lib]);\n",
       "          };\n",
       "          s.onerror = () => reject(`Error loading script: ${paths[lib]}`);\n",
       "          s.src = paths[lib];\n",
       "        });\n",
       "    }\n",
       "\n",
       "    function showError(err) {\n",
       "      outputDiv.innerHTML = `<div class=\"error\" style=\"color:red;\">${err}</div>`;\n",
       "      throw err;\n",
       "    }\n",
       "\n",
       "    function displayChart(vegaEmbed) {\n",
       "      vegaEmbed(outputDiv, spec, embedOpt)\n",
       "        .catch(err => showError(`Javascript Error: ${err.message}<br>This usually means there's a typo in your chart specification. See the javascript console for the full traceback.`));\n",
       "    }\n",
       "\n",
       "    if(typeof define === \"function\" && define.amd) {\n",
       "      requirejs.config({paths});\n",
       "      require([\"vega-embed\"], displayChart, err => showError(`Error loading script: ${err.message}`));\n",
       "    } else {\n",
       "      maybeLoadScript(\"vega\", \"5\")\n",
       "        .then(() => maybeLoadScript(\"vega-lite\", \"4.17.0\"))\n",
       "        .then(() => maybeLoadScript(\"vega-embed\", \"6\"))\n",
       "        .catch(showError)\n",
       "        .then(() => displayChart(vegaEmbed));\n",
       "    }\n",
       "  })({\"config\": {\"view\": {\"continuousWidth\": 400, \"continuousHeight\": 300}}, \"hconcat\": [{\"data\": {\"name\": \"data-b24a736c0f8766b00a5ca997ecb996c3\"}, \"mark\": \"line\", \"encoding\": {\"color\": {\"field\": \"type\", \"type\": \"nominal\"}, \"tooltip\": {\"field\": \"C\", \"type\": \"quantitative\"}, \"x\": {\"field\": \"C\", \"type\": \"ordinal\"}, \"y\": {\"field\": \"Result\", \"type\": \"quantitative\"}}, \"title\": \"Accuracy\"}, {\"data\": {\"name\": \"data-bd357543cf6a69d95a02caf96d641b78\"}, \"mark\": \"line\", \"encoding\": {\"color\": {\"field\": \"type\", \"type\": \"nominal\"}, \"tooltip\": {\"field\": \"penalty\", \"type\": \"quantitative\"}, \"x\": {\"field\": \"penalty\", \"type\": \"ordinal\"}, \"y\": {\"field\": \"Result\", \"type\": \"quantitative\"}}, \"title\": \"Accuracy\"}, {\"data\": {\"name\": \"data-2724719f57b2237a0701888e4e915951\"}, \"mark\": \"line\", \"encoding\": {\"color\": {\"field\": \"type\", \"type\": \"nominal\"}, \"tooltip\": {\"field\": \"solver\", \"type\": \"quantitative\"}, \"x\": {\"field\": \"solver\", \"type\": \"ordinal\"}, \"y\": {\"field\": \"Result\", \"type\": \"quantitative\"}}, \"title\": \"Accuracy\"}], \"$schema\": \"https://vega.github.io/schema/vega-lite/v4.17.0.json\", \"datasets\": {\"data-b24a736c0f8766b00a5ca997ecb996c3\": [{\"type\": \"test\", \"C\": 0.01, \"Result\": 0.8022429906542057}, {\"type\": \"test\", \"C\": 0.03125, \"Result\": 0.8026168224299066}, {\"type\": \"test\", \"C\": 0.0625, \"Result\": 0.7988785046728972}, {\"type\": \"test\", \"C\": 0.1, \"Result\": 0.794018691588785}, {\"type\": \"test\", \"C\": 0.125, \"Result\": 0.7936448598130841}, {\"type\": \"test\", \"C\": 0.25, \"Result\": 0.7857943925233644}, {\"type\": \"test\", \"C\": 0.5, \"Result\": 0.7798130841121497}, {\"type\": \"test\", \"C\": 1.0, \"Result\": 0.7714018691588785}, {\"type\": \"test\", \"C\": 2.0, \"Result\": 0.7585046728971963}, {\"type\": \"test\", \"C\": 4.0, \"Result\": 0.7517757009345793}, {\"type\": \"test\", \"C\": 8.0, \"Result\": 0.7379439252336448}, {\"type\": \"test\", \"C\": 10.0, \"Result\": 0.7323364485981309}, {\"type\": \"test\", \"C\": 16.0, \"Result\": 0.7222429906542056}, {\"type\": \"test\", \"C\": 32.0, \"Result\": 0.7168224299065421}, {\"type\": \"test\", \"C\": 64.0, \"Result\": 0.7031775700934579}, {\"type\": \"train\", \"C\": 0.01, \"Result\": 0.8258878504672896}, {\"type\": \"train\", \"C\": 0.03125, \"Result\": 0.8489252336448598}, {\"type\": \"train\", \"C\": 0.0625, \"Result\": 0.8610747663551402}, {\"type\": \"train\", \"C\": 0.1, \"Result\": 0.8714018691588784}, {\"type\": \"train\", \"C\": 0.125, \"Result\": 0.8742990654205608}, {\"type\": \"train\", \"C\": 0.25, \"Result\": 0.8885046728971963}, {\"type\": \"train\", \"C\": 0.5, \"Result\": 0.9000934579439251}, {\"type\": \"train\", \"C\": 1.0, \"Result\": 0.913177570093458}, {\"type\": \"train\", \"C\": 2.0, \"Result\": 0.9254205607476635}, {\"type\": \"train\", \"C\": 4.0, \"Result\": 0.9361682242990657}, {\"type\": \"train\", \"C\": 8.0, \"Result\": 0.9472897196261684}, {\"type\": \"train\", \"C\": 10.0, \"Result\": 0.9511214953271028}, {\"type\": \"train\", \"C\": 16.0, \"Result\": 0.9594392523364488}, {\"type\": \"train\", \"C\": 32.0, \"Result\": 0.972196261682243}, {\"type\": \"train\", \"C\": 64.0, \"Result\": 0.9842523364485981}], \"data-bd357543cf6a69d95a02caf96d641b78\": [{\"type\": \"test\", \"penalty\": \"l1\", \"Result\": 0.7672897196261683}, {\"type\": \"test\", \"penalty\": \"l2\", \"Result\": 0.7712149532710281}, {\"type\": \"train\", \"penalty\": \"l1\", \"Result\": 0.9052336448598131}, {\"type\": \"train\", \"penalty\": \"l2\", \"Result\": 0.9133644859813085}], \"data-2724719f57b2237a0701888e4e915951\": [{\"type\": \"test\", \"solver\": \"lbfgs\", \"Result\": 0.7712149532710281}, {\"type\": \"test\", \"solver\": \"liblinear\", \"Result\": 0.7650467289719627}, {\"type\": \"train\", \"solver\": \"lbfgs\", \"Result\": 0.913177570093458}, {\"type\": \"train\", \"solver\": \"liblinear\", \"Result\": 0.9162616822429906}]}}, {\"mode\": \"vega-lite\"});\n",
       "</script>"
      ],
      "text/plain": [
       "alt.HConcatChart(...)"
      ]
     },
     "execution_count": 12,
     "metadata": {},
     "output_type": "execute_result"
    }
   ],
   "source": [
    "df = csv_data.copy()\n",
    "df = df[df.Score=='Accuracy']\n",
    "#print(df.columns)\n",
    "df = df.groupby(['type','C',])['Result'].median().reset_index()\n",
    "#display(df)\n",
    "\n",
    "chart1 = alt.Chart(df).mark_line().encode(\n",
    "    x = 'C:O',\n",
    "    y = 'Result:Q',\n",
    "    color = 'type:N',\n",
    "    tooltip = 'C:Q',\n",
    "\n",
    ").properties(\n",
    "    title = 'Accuracy'\n",
    ")\n",
    "\n",
    "\n",
    "df = csv_data.copy()\n",
    "df = df[df.Score=='Accuracy']\n",
    "#print(df.columns)\n",
    "df = df.groupby(['type','penalty',])['Result'].median().reset_index()\n",
    "#display(df)\n",
    "\n",
    "chart2 = alt.Chart(df).mark_line().encode(\n",
    "    x = 'penalty:O',\n",
    "    y = 'Result:Q',\n",
    "    color = 'type:N',\n",
    "    tooltip = 'penalty:Q',\n",
    "\n",
    ").properties(\n",
    "    title = 'Accuracy'\n",
    ")\n",
    "\n",
    "df = csv_data.copy()\n",
    "df = df[df.Score=='Accuracy']\n",
    "#print(df.columns)\n",
    "df = df.groupby(['type','solver',])['Result'].median().reset_index()\n",
    "#display(df)\n",
    "\n",
    "chart3 = alt.Chart(df).mark_line().encode(\n",
    "    x = 'solver:O',\n",
    "    y = 'Result:Q',\n",
    "    color = 'type:N',\n",
    "    tooltip = 'solver:Q',\n",
    "\n",
    ").properties(\n",
    "    title = 'Accuracy'\n",
    ")\n",
    "\n",
    "chart1 | chart2 | chart3"
   ]
  },
  {
   "cell_type": "markdown",
   "metadata": {
    "id": "3mN4AqqsVEFm"
   },
   "source": [
    "## Look more closely at any combinations."
   ]
  },
  {
   "cell_type": "code",
   "execution_count": 13,
   "metadata": {
    "colab": {
     "base_uri": "https://localhost:8080/",
     "height": 473
    },
    "executionInfo": {
     "elapsed": 168,
     "status": "ok",
     "timestamp": 1649843484563,
     "user": {
      "displayName": "Erik Lang",
      "userId": "07461174803850440376"
     },
     "user_tz": 240
    },
    "id": "1TOH8oaBWgVd",
    "outputId": "4da516d4-162e-4479-bc35-07384221d445"
   },
   "outputs": [
    {
     "data": {
      "text/html": [
       "\n",
       "<div id=\"altair-viz-cf21bba7b7f94c41bdb11262950d4b29\"></div>\n",
       "<script type=\"text/javascript\">\n",
       "  var VEGA_DEBUG = (typeof VEGA_DEBUG == \"undefined\") ? {} : VEGA_DEBUG;\n",
       "  (function(spec, embedOpt){\n",
       "    let outputDiv = document.currentScript.previousElementSibling;\n",
       "    if (outputDiv.id !== \"altair-viz-cf21bba7b7f94c41bdb11262950d4b29\") {\n",
       "      outputDiv = document.getElementById(\"altair-viz-cf21bba7b7f94c41bdb11262950d4b29\");\n",
       "    }\n",
       "    const paths = {\n",
       "      \"vega\": \"https://cdn.jsdelivr.net/npm//vega@5?noext\",\n",
       "      \"vega-lib\": \"https://cdn.jsdelivr.net/npm//vega-lib?noext\",\n",
       "      \"vega-lite\": \"https://cdn.jsdelivr.net/npm//vega-lite@4.17.0?noext\",\n",
       "      \"vega-embed\": \"https://cdn.jsdelivr.net/npm//vega-embed@6?noext\",\n",
       "    };\n",
       "\n",
       "    function maybeLoadScript(lib, version) {\n",
       "      var key = `${lib.replace(\"-\", \"\")}_version`;\n",
       "      return (VEGA_DEBUG[key] == version) ?\n",
       "        Promise.resolve(paths[lib]) :\n",
       "        new Promise(function(resolve, reject) {\n",
       "          var s = document.createElement('script');\n",
       "          document.getElementsByTagName(\"head\")[0].appendChild(s);\n",
       "          s.async = true;\n",
       "          s.onload = () => {\n",
       "            VEGA_DEBUG[key] = version;\n",
       "            return resolve(paths[lib]);\n",
       "          };\n",
       "          s.onerror = () => reject(`Error loading script: ${paths[lib]}`);\n",
       "          s.src = paths[lib];\n",
       "        });\n",
       "    }\n",
       "\n",
       "    function showError(err) {\n",
       "      outputDiv.innerHTML = `<div class=\"error\" style=\"color:red;\">${err}</div>`;\n",
       "      throw err;\n",
       "    }\n",
       "\n",
       "    function displayChart(vegaEmbed) {\n",
       "      vegaEmbed(outputDiv, spec, embedOpt)\n",
       "        .catch(err => showError(`Javascript Error: ${err.message}<br>This usually means there's a typo in your chart specification. See the javascript console for the full traceback.`));\n",
       "    }\n",
       "\n",
       "    if(typeof define === \"function\" && define.amd) {\n",
       "      requirejs.config({paths});\n",
       "      require([\"vega-embed\"], displayChart, err => showError(`Error loading script: ${err.message}`));\n",
       "    } else {\n",
       "      maybeLoadScript(\"vega\", \"5\")\n",
       "        .then(() => maybeLoadScript(\"vega-lite\", \"4.17.0\"))\n",
       "        .then(() => maybeLoadScript(\"vega-embed\", \"6\"))\n",
       "        .catch(showError)\n",
       "        .then(() => displayChart(vegaEmbed));\n",
       "    }\n",
       "  })({\"config\": {\"view\": {\"continuousWidth\": 400, \"continuousHeight\": 300}}, \"hconcat\": [{\"data\": {\"name\": \"data-d66cd4f9d03c0fd084f2f288f4efd210\"}, \"mark\": \"line\", \"encoding\": {\"color\": {\"field\": \"type\", \"type\": \"nominal\"}, \"tooltip\": {\"field\": \"model_param\", \"type\": \"ordinal\"}, \"x\": {\"field\": \"model_param\", \"type\": \"ordinal\"}, \"y\": {\"field\": \"Result\", \"type\": \"quantitative\"}}, \"title\": \"F1 Score\"}, {\"data\": {\"name\": \"data-3c285e5385e3f89513f6650ccd614aab\"}, \"mark\": \"line\", \"encoding\": {\"color\": {\"field\": \"type\", \"type\": \"nominal\"}, \"tooltip\": {\"field\": \"model_param\", \"type\": \"ordinal\"}, \"x\": {\"field\": \"model_param\", \"type\": \"ordinal\"}, \"y\": {\"field\": \"Result\", \"type\": \"quantitative\"}}, \"title\": \"Accuracy\"}], \"$schema\": \"https://vega.github.io/schema/vega-lite/v4.17.0.json\", \"datasets\": {\"data-d66cd4f9d03c0fd084f2f288f4efd210\": [{\"Result\": 0.5206228741029575, \"model_param\": \"l2 / liblinear / 0.03125\", \"Score\": \"F1\", \"type\": \"train\", \"C\": 0.03125, \"penalty\": \"l2\", \"solver\": \"liblinear\"}, {\"Result\": 0.5724158551536398, \"model_param\": \"l2 / liblinear / 0.0625\", \"Score\": \"F1\", \"type\": \"train\", \"C\": 0.0625, \"penalty\": \"l2\", \"solver\": \"liblinear\"}, {\"Result\": 0.6304577251253108, \"model_param\": \"l2 / liblinear / 0.125\", \"Score\": \"F1\", \"type\": \"train\", \"C\": 0.125, \"penalty\": \"l2\", \"solver\": \"liblinear\"}, {\"Result\": 0.6830248989135719, \"model_param\": \"l2 / liblinear / 0.25\", \"Score\": \"F1\", \"type\": \"train\", \"C\": 0.25, \"penalty\": \"l2\", \"solver\": \"liblinear\"}, {\"Result\": 0.7230176067474886, \"model_param\": \"l2 / liblinear / 0.5\", \"Score\": \"F1\", \"type\": \"train\", \"C\": 0.5, \"penalty\": \"l2\", \"solver\": \"liblinear\"}, {\"Result\": 0.7651049438363925, \"model_param\": \"l2 / liblinear / 1.0\", \"Score\": \"F1\", \"type\": \"train\", \"C\": 1.0, \"penalty\": \"l2\", \"solver\": \"liblinear\"}, {\"Result\": 0.8014480441209146, \"model_param\": \"l2 / liblinear / 2.0\", \"Score\": \"F1\", \"type\": \"train\", \"C\": 2.0, \"penalty\": \"l2\", \"solver\": \"liblinear\"}, {\"Result\": 0.8322515158615745, \"model_param\": \"l2 / liblinear / 4.0\", \"Score\": \"F1\", \"type\": \"train\", \"C\": 4.0, \"penalty\": \"l2\", \"solver\": \"liblinear\"}, {\"Result\": 0.863595078319969, \"model_param\": \"l2 / liblinear / 8.0\", \"Score\": \"F1\", \"type\": \"train\", \"C\": 8.0, \"penalty\": \"l2\", \"solver\": \"liblinear\"}, {\"Result\": 0.8968138355026938, \"model_param\": \"l2 / liblinear / 16.0\", \"Score\": \"F1\", \"type\": \"train\", \"C\": 16.0, \"penalty\": \"l2\", \"solver\": \"liblinear\"}, {\"Result\": 0.9305701280136244, \"model_param\": \"l2 / liblinear / 32.0\", \"Score\": \"F1\", \"type\": \"train\", \"C\": 32.0, \"penalty\": \"l2\", \"solver\": \"liblinear\"}, {\"Result\": 0.961001331651755, \"model_param\": \"l2 / liblinear / 64.0\", \"Score\": \"F1\", \"type\": \"train\", \"C\": 64.0, \"penalty\": \"l2\", \"solver\": \"liblinear\"}, {\"Result\": 0.3414564337497388, \"model_param\": \"l2 / liblinear / 0.03125\", \"Score\": \"F1\", \"type\": \"test\", \"C\": 0.03125, \"penalty\": \"l2\", \"solver\": \"liblinear\"}, {\"Result\": 0.368236096011363, \"model_param\": \"l2 / liblinear / 0.0625\", \"Score\": \"F1\", \"type\": \"test\", \"C\": 0.0625, \"penalty\": \"l2\", \"solver\": \"liblinear\"}, {\"Result\": 0.377581011547144, \"model_param\": \"l2 / liblinear / 0.125\", \"Score\": \"F1\", \"type\": \"test\", \"C\": 0.125, \"penalty\": \"l2\", \"solver\": \"liblinear\"}, {\"Result\": 0.3789941013467445, \"model_param\": \"l2 / liblinear / 0.25\", \"Score\": \"F1\", \"type\": \"test\", \"C\": 0.25, \"penalty\": \"l2\", \"solver\": \"liblinear\"}, {\"Result\": 0.3839050585725549, \"model_param\": \"l2 / liblinear / 0.5\", \"Score\": \"F1\", \"type\": \"test\", \"C\": 0.5, \"penalty\": \"l2\", \"solver\": \"liblinear\"}, {\"Result\": 0.3959081015705588, \"model_param\": \"l2 / liblinear / 1.0\", \"Score\": \"F1\", \"type\": \"test\", \"C\": 1.0, \"penalty\": \"l2\", \"solver\": \"liblinear\"}, {\"Result\": 0.3887101178488715, \"model_param\": \"l2 / liblinear / 2.0\", \"Score\": \"F1\", \"type\": \"test\", \"C\": 2.0, \"penalty\": \"l2\", \"solver\": \"liblinear\"}, {\"Result\": 0.387570537718965, \"model_param\": \"l2 / liblinear / 4.0\", \"Score\": \"F1\", \"type\": \"test\", \"C\": 4.0, \"penalty\": \"l2\", \"solver\": \"liblinear\"}, {\"Result\": 0.3769533652401329, \"model_param\": \"l2 / liblinear / 8.0\", \"Score\": \"F1\", \"type\": \"test\", \"C\": 8.0, \"penalty\": \"l2\", \"solver\": \"liblinear\"}, {\"Result\": 0.3604544352068777, \"model_param\": \"l2 / liblinear / 16.0\", \"Score\": \"F1\", \"type\": \"test\", \"C\": 16.0, \"penalty\": \"l2\", \"solver\": \"liblinear\"}, {\"Result\": 0.3668758857790074, \"model_param\": \"l2 / liblinear / 32.0\", \"Score\": \"F1\", \"type\": \"test\", \"C\": 32.0, \"penalty\": \"l2\", \"solver\": \"liblinear\"}, {\"Result\": 0.3494891365428452, \"model_param\": \"l2 / liblinear / 64.0\", \"Score\": \"F1\", \"type\": \"test\", \"C\": 64.0, \"penalty\": \"l2\", \"solver\": \"liblinear\"}], \"data-3c285e5385e3f89513f6650ccd614aab\": [{\"Result\": 0.8497196261682243, \"model_param\": \"l2 / liblinear / 0.03125\", \"Score\": \"Accuracy\", \"type\": \"train\", \"C\": 0.03125, \"penalty\": \"l2\", \"solver\": \"liblinear\"}, {\"Result\": 0.8607476635514019, \"model_param\": \"l2 / liblinear / 0.0625\", \"Score\": \"Accuracy\", \"type\": \"train\", \"C\": 0.0625, \"penalty\": \"l2\", \"solver\": \"liblinear\"}, {\"Result\": 0.8742990654205608, \"model_param\": \"l2 / liblinear / 0.125\", \"Score\": \"Accuracy\", \"type\": \"train\", \"C\": 0.125, \"penalty\": \"l2\", \"solver\": \"liblinear\"}, {\"Result\": 0.8885046728971963, \"model_param\": \"l2 / liblinear / 0.25\", \"Score\": \"Accuracy\", \"type\": \"train\", \"C\": 0.25, \"penalty\": \"l2\", \"solver\": \"liblinear\"}, {\"Result\": 0.9000934579439251, \"model_param\": \"l2 / liblinear / 0.5\", \"Score\": \"Accuracy\", \"type\": \"train\", \"C\": 0.5, \"penalty\": \"l2\", \"solver\": \"liblinear\"}, {\"Result\": 0.913551401869159, \"model_param\": \"l2 / liblinear / 1.0\", \"Score\": \"Accuracy\", \"type\": \"train\", \"C\": 1.0, \"penalty\": \"l2\", \"solver\": \"liblinear\"}, {\"Result\": 0.9254205607476635, \"model_param\": \"l2 / liblinear / 2.0\", \"Score\": \"Accuracy\", \"type\": \"train\", \"C\": 2.0, \"penalty\": \"l2\", \"solver\": \"liblinear\"}, {\"Result\": 0.9361682242990657, \"model_param\": \"l2 / liblinear / 4.0\", \"Score\": \"Accuracy\", \"type\": \"train\", \"C\": 4.0, \"penalty\": \"l2\", \"solver\": \"liblinear\"}, {\"Result\": 0.9472897196261684, \"model_param\": \"l2 / liblinear / 8.0\", \"Score\": \"Accuracy\", \"type\": \"train\", \"C\": 8.0, \"penalty\": \"l2\", \"solver\": \"liblinear\"}, {\"Result\": 0.9594392523364488, \"model_param\": \"l2 / liblinear / 16.0\", \"Score\": \"Accuracy\", \"type\": \"train\", \"C\": 16.0, \"penalty\": \"l2\", \"solver\": \"liblinear\"}, {\"Result\": 0.9722429906542056, \"model_param\": \"l2 / liblinear / 32.0\", \"Score\": \"Accuracy\", \"type\": \"train\", \"C\": 32.0, \"penalty\": \"l2\", \"solver\": \"liblinear\"}, {\"Result\": 0.9842990654205608, \"model_param\": \"l2 / liblinear / 64.0\", \"Score\": \"Accuracy\", \"type\": \"train\", \"C\": 64.0, \"penalty\": \"l2\", \"solver\": \"liblinear\"}, {\"Result\": 0.8022429906542057, \"model_param\": \"l2 / liblinear / 0.03125\", \"Score\": \"Accuracy\", \"type\": \"test\", \"C\": 0.03125, \"penalty\": \"l2\", \"solver\": \"liblinear\"}, {\"Result\": 0.7966355140186916, \"model_param\": \"l2 / liblinear / 0.0625\", \"Score\": \"Accuracy\", \"type\": \"test\", \"C\": 0.0625, \"penalty\": \"l2\", \"solver\": \"liblinear\"}, {\"Result\": 0.7910280373831775, \"model_param\": \"l2 / liblinear / 0.125\", \"Score\": \"Accuracy\", \"type\": \"test\", \"C\": 0.125, \"penalty\": \"l2\", \"solver\": \"liblinear\"}, {\"Result\": 0.783177570093458, \"model_param\": \"l2 / liblinear / 0.25\", \"Score\": \"Accuracy\", \"type\": \"test\", \"C\": 0.25, \"penalty\": \"l2\", \"solver\": \"liblinear\"}, {\"Result\": 0.7790654205607478, \"model_param\": \"l2 / liblinear / 0.5\", \"Score\": \"Accuracy\", \"type\": \"test\", \"C\": 0.5, \"penalty\": \"l2\", \"solver\": \"liblinear\"}, {\"Result\": 0.771588785046729, \"model_param\": \"l2 / liblinear / 1.0\", \"Score\": \"Accuracy\", \"type\": \"test\", \"C\": 1.0, \"penalty\": \"l2\", \"solver\": \"liblinear\"}, {\"Result\": 0.7585046728971963, \"model_param\": \"l2 / liblinear / 2.0\", \"Score\": \"Accuracy\", \"type\": \"test\", \"C\": 2.0, \"penalty\": \"l2\", \"solver\": \"liblinear\"}, {\"Result\": 0.7525233644859812, \"model_param\": \"l2 / liblinear / 4.0\", \"Score\": \"Accuracy\", \"type\": \"test\", \"C\": 4.0, \"penalty\": \"l2\", \"solver\": \"liblinear\"}, {\"Result\": 0.7379439252336448, \"model_param\": \"l2 / liblinear / 8.0\", \"Score\": \"Accuracy\", \"type\": \"test\", \"C\": 8.0, \"penalty\": \"l2\", \"solver\": \"liblinear\"}, {\"Result\": 0.7222429906542056, \"model_param\": \"l2 / liblinear / 16.0\", \"Score\": \"Accuracy\", \"type\": \"test\", \"C\": 16.0, \"penalty\": \"l2\", \"solver\": \"liblinear\"}, {\"Result\": 0.7166355140186916, \"model_param\": \"l2 / liblinear / 32.0\", \"Score\": \"Accuracy\", \"type\": \"test\", \"C\": 32.0, \"penalty\": \"l2\", \"solver\": \"liblinear\"}, {\"Result\": 0.702803738317757, \"model_param\": \"l2 / liblinear / 64.0\", \"Score\": \"Accuracy\", \"type\": \"test\", \"C\": 64.0, \"penalty\": \"l2\", \"solver\": \"liblinear\"}]}}, {\"mode\": \"vega-lite\"});\n",
       "</script>"
      ],
      "text/plain": [
       "alt.HConcatChart(...)"
      ]
     },
     "execution_count": 13,
     "metadata": {},
     "output_type": "execute_result"
    }
   ],
   "source": [
    "df = csv_data.copy()\n",
    "df = df[(df.penalty=='l2') & (df.solver=='liblinear') ]\n",
    "\n",
    "\n",
    "chart1 = alt.Chart(df[df.Score=='F1']).mark_line().encode(\n",
    "    x = 'model_param:O',\n",
    "    y = 'Result:Q',\n",
    "    color = 'type:N',\n",
    "    tooltip = 'model_param:O',\n",
    ").properties(\n",
    "    title = 'F1 Score'\n",
    ")\n",
    "\n",
    "chart2 = alt.Chart(df[df.Score=='Accuracy']).mark_line().encode(\n",
    "    x = 'model_param:O',\n",
    "    y = 'Result:Q',\n",
    "    color = 'type:N',\n",
    "    tooltip = 'model_param:O',\n",
    ").properties(\n",
    "    title = 'Accuracy'\n",
    ")\n",
    "\n",
    "chart1 | chart2"
   ]
  },
  {
   "cell_type": "markdown",
   "metadata": {
    "id": "mTvbwBDIZaNX"
   },
   "source": [
    "#notes\n"
   ]
  },
  {
   "cell_type": "code",
   "execution_count": 14,
   "metadata": {
    "colab": {
     "base_uri": "https://localhost:8080/",
     "height": 175
    },
    "executionInfo": {
     "elapsed": 202,
     "status": "ok",
     "timestamp": 1649847591327,
     "user": {
      "displayName": "Erik Lang",
      "userId": "07461174803850440376"
     },
     "user_tz": 240
    },
    "id": "DyYCqqDrh-nA",
    "outputId": "73d5ddc5-1d23-4a5c-800c-d93c0caa5167"
   },
   "outputs": [
    {
     "data": {
      "text/html": [
       "<div>\n",
       "<style scoped>\n",
       "    .dataframe tbody tr th:only-of-type {\n",
       "        vertical-align: middle;\n",
       "    }\n",
       "\n",
       "    .dataframe tbody tr th {\n",
       "        vertical-align: top;\n",
       "    }\n",
       "\n",
       "    .dataframe thead th {\n",
       "        text-align: right;\n",
       "    }\n",
       "</style>\n",
       "<table border=\"1\" class=\"dataframe\">\n",
       "  <thead>\n",
       "    <tr style=\"text-align: right;\">\n",
       "      <th></th>\n",
       "      <th>Result</th>\n",
       "      <th>model_param</th>\n",
       "      <th>Score</th>\n",
       "      <th>type</th>\n",
       "      <th>C</th>\n",
       "      <th>penalty</th>\n",
       "      <th>solver</th>\n",
       "    </tr>\n",
       "  </thead>\n",
       "  <tbody>\n",
       "    <tr>\n",
       "      <th>15</th>\n",
       "      <td>0.913178</td>\n",
       "      <td>l2 / lbfgs / 1.0</td>\n",
       "      <td>Accuracy</td>\n",
       "      <td>train</td>\n",
       "      <td>1.0</td>\n",
       "      <td>l2</td>\n",
       "      <td>lbfgs</td>\n",
       "    </tr>\n",
       "    <tr>\n",
       "      <th>34</th>\n",
       "      <td>0.913178</td>\n",
       "      <td>l2 / lbfgs / 1</td>\n",
       "      <td>Accuracy</td>\n",
       "      <td>train</td>\n",
       "      <td>1.0</td>\n",
       "      <td>l2</td>\n",
       "      <td>lbfgs</td>\n",
       "    </tr>\n",
       "    <tr>\n",
       "      <th>51</th>\n",
       "      <td>0.771215</td>\n",
       "      <td>l2 / lbfgs / 1.0</td>\n",
       "      <td>Accuracy</td>\n",
       "      <td>test</td>\n",
       "      <td>1.0</td>\n",
       "      <td>l2</td>\n",
       "      <td>lbfgs</td>\n",
       "    </tr>\n",
       "    <tr>\n",
       "      <th>70</th>\n",
       "      <td>0.771215</td>\n",
       "      <td>l2 / lbfgs / 1</td>\n",
       "      <td>Accuracy</td>\n",
       "      <td>test</td>\n",
       "      <td>1.0</td>\n",
       "      <td>l2</td>\n",
       "      <td>lbfgs</td>\n",
       "    </tr>\n",
       "    <tr>\n",
       "      <th>87</th>\n",
       "      <td>0.764205</td>\n",
       "      <td>l2 / lbfgs / 1.0</td>\n",
       "      <td>F1</td>\n",
       "      <td>train</td>\n",
       "      <td>1.0</td>\n",
       "      <td>l2</td>\n",
       "      <td>lbfgs</td>\n",
       "    </tr>\n",
       "    <tr>\n",
       "      <th>106</th>\n",
       "      <td>0.764205</td>\n",
       "      <td>l2 / lbfgs / 1</td>\n",
       "      <td>F1</td>\n",
       "      <td>train</td>\n",
       "      <td>1.0</td>\n",
       "      <td>l2</td>\n",
       "      <td>lbfgs</td>\n",
       "    </tr>\n",
       "    <tr>\n",
       "      <th>123</th>\n",
       "      <td>0.394334</td>\n",
       "      <td>l2 / lbfgs / 1.0</td>\n",
       "      <td>F1</td>\n",
       "      <td>test</td>\n",
       "      <td>1.0</td>\n",
       "      <td>l2</td>\n",
       "      <td>lbfgs</td>\n",
       "    </tr>\n",
       "    <tr>\n",
       "      <th>142</th>\n",
       "      <td>0.394334</td>\n",
       "      <td>l2 / lbfgs / 1</td>\n",
       "      <td>F1</td>\n",
       "      <td>test</td>\n",
       "      <td>1.0</td>\n",
       "      <td>l2</td>\n",
       "      <td>lbfgs</td>\n",
       "    </tr>\n",
       "  </tbody>\n",
       "</table>\n",
       "</div>"
      ],
      "text/plain": [
       "       Result       model_param     Score   type    C penalty solver\n",
       "15   0.913178  l2 / lbfgs / 1.0  Accuracy  train  1.0      l2  lbfgs\n",
       "34   0.913178    l2 / lbfgs / 1  Accuracy  train  1.0      l2  lbfgs\n",
       "51   0.771215  l2 / lbfgs / 1.0  Accuracy   test  1.0      l2  lbfgs\n",
       "70   0.771215    l2 / lbfgs / 1  Accuracy   test  1.0      l2  lbfgs\n",
       "87   0.764205  l2 / lbfgs / 1.0        F1  train  1.0      l2  lbfgs\n",
       "106  0.764205    l2 / lbfgs / 1        F1  train  1.0      l2  lbfgs\n",
       "123  0.394334  l2 / lbfgs / 1.0        F1   test  1.0      l2  lbfgs\n",
       "142  0.394334    l2 / lbfgs / 1        F1   test  1.0      l2  lbfgs"
      ]
     },
     "execution_count": 14,
     "metadata": {},
     "output_type": "execute_result"
    }
   ],
   "source": [
    "df = csv_data.copy()\n",
    "df = df[(df.penalty=='l2') & (df.solver=='lbfgs') & (df.C==1.0) ]\n",
    "df"
   ]
  }
 ],
 "metadata": {
  "colab": {
   "authorship_tag": "ABX9TyM1NW0HYnp29xcSsL2rGNFI",
   "collapsed_sections": [],
   "name": "LogReg HPT viz.ipynb",
   "provenance": []
  },
  "kernelspec": {
   "display_name": "Python 3 (ipykernel)",
   "language": "python",
   "name": "python3"
  },
  "language_info": {
   "codemirror_mode": {
    "name": "ipython",
    "version": 3
   },
   "file_extension": ".py",
   "mimetype": "text/x-python",
   "name": "python",
   "nbconvert_exporter": "python",
   "pygments_lexer": "ipython3",
   "version": "3.8.13"
  }
 },
 "nbformat": 4,
 "nbformat_minor": 1
}
